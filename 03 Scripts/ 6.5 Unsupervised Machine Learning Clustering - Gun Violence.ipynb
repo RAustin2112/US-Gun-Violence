{
 "cells": [
  {
   "cell_type": "markdown",
   "id": "fa924bf0",
   "metadata": {},
   "source": [
    "# Unsupervised Machine Learning:Clustering 6.5 Gun Violence in US"
   ]
  },
  {
   "cell_type": "markdown",
   "id": "2e05a512",
   "metadata": {},
   "source": [
    "1. [Import Libraries and Data](#lib)"
   ]
  },
  {
   "cell_type": "markdown",
   "id": "02c75b79",
   "metadata": {},
   "source": [
    "2. [Check the Data](#check)"
   ]
  },
  {
   "cell_type": "markdown",
   "id": "3198796f",
   "metadata": {},
   "source": [
    "3. [The Elbow Technique](#elbow)"
   ]
  },
  {
   "cell_type": "markdown",
   "id": "3321be43",
   "metadata": {},
   "source": [
    "4. [k-means Clustering](#k-means)"
   ]
  },
  {
   "cell_type": "code",
   "execution_count": 7,
   "id": "de878ab6",
   "metadata": {},
   "outputs": [],
   "source": [
    "#Import Libraries\n",
    "import pandas as pd\n",
    "import numpy as np\n",
    "import seaborn as sns\n",
    "import matplotlib\n",
    "import matplotlib.pyplot as plt\n",
    "import os\n",
    "import sklearn\n",
    "from sklearn.cluster import KMeans \n",
    "import pylab as pl"
   ]
  },
  {
   "cell_type": "markdown",
   "id": "b061e399",
   "metadata": {},
   "source": [
    "<div id = \"lib\"></div>"
   ]
  },
  {
   "cell_type": "code",
   "execution_count": 8,
   "id": "57e48fff",
   "metadata": {},
   "outputs": [],
   "source": [
    "# This command propts matplotlib visuals to appear in the notebook \n",
    "\n",
    "%matplotlib inliimport pandas as pd\n",
    "import numpy as np\n",
    "from sklearn.model_selection import train_test_split\n",
    "from sklearn.ensemble import RandomForestRegressor\n",
    "from sklearn.metrics import mean_squared_error\n",
    "from sklearn.preprocessing import LabelEncoder\n",
    "import matplotlib.pyplot as plt\n",
    "import pickle  # Import pickle for saving encoders\n",
    "ne"
   ]
  },
  {
   "cell_type": "code",
   "execution_count": 9,
   "id": "5a0cb30d",
   "metadata": {},
   "outputs": [],
   "source": [
    "# Creating a path\n",
    "path = r'C:\\Users\\rpa21\\Gun Violence Analysis'"
   ]
  },
  {
   "cell_type": "code",
   "execution_count": 10,
   "id": "17db00e0",
   "metadata": {},
   "outputs": [],
   "source": [
    "# importing data\n",
    "df_guns3 = pd.read_csv(os.path.join(path, '02 Data', 'Prepared Data', 'guns_3.csv'), index_col = False)"
   ]
  },
  {
   "cell_type": "markdown",
   "id": "549b2052",
   "metadata": {},
   "source": [
    "<div id = \"check\"></div>"
   ]
  },
  {
   "cell_type": "code",
   "execution_count": 11,
   "id": "7f47feda",
   "metadata": {},
   "outputs": [
    {
     "data": {
      "text/html": [
       "<div>\n",
       "<style scoped>\n",
       "    .dataframe tbody tr th:only-of-type {\n",
       "        vertical-align: middle;\n",
       "    }\n",
       "\n",
       "    .dataframe tbody tr th {\n",
       "        vertical-align: top;\n",
       "    }\n",
       "\n",
       "    .dataframe thead th {\n",
       "        text-align: right;\n",
       "    }\n",
       "</style>\n",
       "<table border=\"1\" class=\"dataframe\">\n",
       "  <thead>\n",
       "    <tr style=\"text-align: right;\">\n",
       "      <th></th>\n",
       "      <th>Unnamed: 0</th>\n",
       "      <th>incident_id</th>\n",
       "      <th>date</th>\n",
       "      <th>STATE_NAME</th>\n",
       "      <th>city_or_county</th>\n",
       "      <th>number_killed</th>\n",
       "      <th>number_injured</th>\n",
       "      <th>congressional_district</th>\n",
       "      <th>incident_characteristics</th>\n",
       "      <th>latitude</th>\n",
       "      <th>longitude</th>\n",
       "      <th>number_guns_involved</th>\n",
       "      <th>notes</th>\n",
       "      <th>participant_age</th>\n",
       "      <th>participant_age_group</th>\n",
       "      <th>year</th>\n",
       "      <th>day</th>\n",
       "      <th>month</th>\n",
       "      <th>place</th>\n",
       "    </tr>\n",
       "  </thead>\n",
       "  <tbody>\n",
       "    <tr>\n",
       "      <th>0</th>\n",
       "      <td>0</td>\n",
       "      <td>461105</td>\n",
       "      <td>2013-01-01</td>\n",
       "      <td>Pennsylvania</td>\n",
       "      <td>Mckeesport</td>\n",
       "      <td>0</td>\n",
       "      <td>4</td>\n",
       "      <td>14.0</td>\n",
       "      <td>Shot - Wounded/Injured||Mass Shooting (4+ vict...</td>\n",
       "      <td>40.3467</td>\n",
       "      <td>-79.8559</td>\n",
       "      <td>1.0</td>\n",
       "      <td>Julian Sims under investigation: Four Shot and...</td>\n",
       "      <td>0::20</td>\n",
       "      <td>0::Adult 18+||1::Adult 18+||2::Adult 18+||3::A...</td>\n",
       "      <td>2013</td>\n",
       "      <td>Tuesday</td>\n",
       "      <td>January</td>\n",
       "      <td>Mckeesport, Pennsylvania</td>\n",
       "    </tr>\n",
       "    <tr>\n",
       "      <th>1</th>\n",
       "      <td>1</td>\n",
       "      <td>460726</td>\n",
       "      <td>2013-01-01</td>\n",
       "      <td>California</td>\n",
       "      <td>Hawthorne</td>\n",
       "      <td>1</td>\n",
       "      <td>3</td>\n",
       "      <td>43.0</td>\n",
       "      <td>Shot - Wounded/Injured||Shot - Dead (murder, a...</td>\n",
       "      <td>33.9090</td>\n",
       "      <td>-118.3330</td>\n",
       "      <td>1.0</td>\n",
       "      <td>Four Shot; One Killed; Unidentified shooter in...</td>\n",
       "      <td>0::20</td>\n",
       "      <td>0::Adult 18+||1::Adult 18+||2::Adult 18+||3::A...</td>\n",
       "      <td>2013</td>\n",
       "      <td>Tuesday</td>\n",
       "      <td>January</td>\n",
       "      <td>Hawthorne, California</td>\n",
       "    </tr>\n",
       "    <tr>\n",
       "      <th>2</th>\n",
       "      <td>2</td>\n",
       "      <td>478855</td>\n",
       "      <td>2013-01-01</td>\n",
       "      <td>Ohio</td>\n",
       "      <td>Lorain</td>\n",
       "      <td>1</td>\n",
       "      <td>3</td>\n",
       "      <td>9.0</td>\n",
       "      <td>Shot - Wounded/Injured||Shot - Dead (murder, a...</td>\n",
       "      <td>41.4455</td>\n",
       "      <td>-82.1377</td>\n",
       "      <td>2.0</td>\n",
       "      <td>NaN</td>\n",
       "      <td>0::25||1::31||2::33||3::34||4::33</td>\n",
       "      <td>0::Adult 18+||1::Adult 18+||2::Adult 18+||3::A...</td>\n",
       "      <td>2013</td>\n",
       "      <td>Tuesday</td>\n",
       "      <td>January</td>\n",
       "      <td>Lorain, Ohio</td>\n",
       "    </tr>\n",
       "    <tr>\n",
       "      <th>3</th>\n",
       "      <td>3</td>\n",
       "      <td>478925</td>\n",
       "      <td>2013-01-05</td>\n",
       "      <td>Colorado</td>\n",
       "      <td>Aurora</td>\n",
       "      <td>4</td>\n",
       "      <td>0</td>\n",
       "      <td>6.0</td>\n",
       "      <td>Shot - Dead (murder, accidental, suicide)||Off...</td>\n",
       "      <td>39.6518</td>\n",
       "      <td>-104.8020</td>\n",
       "      <td>1.0</td>\n",
       "      <td>NaN</td>\n",
       "      <td>0::29||1::33||2::56||3::33</td>\n",
       "      <td>0::Adult 18+||1::Adult 18+||2::Adult 18+||3::A...</td>\n",
       "      <td>2013</td>\n",
       "      <td>Saturday</td>\n",
       "      <td>January</td>\n",
       "      <td>Aurora, Colorado</td>\n",
       "    </tr>\n",
       "    <tr>\n",
       "      <th>4</th>\n",
       "      <td>4</td>\n",
       "      <td>478959</td>\n",
       "      <td>2013-01-07</td>\n",
       "      <td>North Carolina</td>\n",
       "      <td>Greensboro</td>\n",
       "      <td>2</td>\n",
       "      <td>2</td>\n",
       "      <td>6.0</td>\n",
       "      <td>Shot - Wounded/Injured||Shot - Dead (murder, a...</td>\n",
       "      <td>36.1140</td>\n",
       "      <td>-79.9569</td>\n",
       "      <td>2.0</td>\n",
       "      <td>Two firearms recovered. (Attempted) murder sui...</td>\n",
       "      <td>0::18||1::46||2::14||3::47</td>\n",
       "      <td>0::Adult 18+||1::Adult 18+||2::Teen 12-17||3::...</td>\n",
       "      <td>2013</td>\n",
       "      <td>Monday</td>\n",
       "      <td>January</td>\n",
       "      <td>Greensboro, North Carolina</td>\n",
       "    </tr>\n",
       "  </tbody>\n",
       "</table>\n",
       "</div>"
      ],
      "text/plain": [
       "   Unnamed: 0  incident_id        date      STATE_NAME city_or_county  \\\n",
       "0           0       461105  2013-01-01    Pennsylvania     Mckeesport   \n",
       "1           1       460726  2013-01-01      California      Hawthorne   \n",
       "2           2       478855  2013-01-01            Ohio         Lorain   \n",
       "3           3       478925  2013-01-05        Colorado         Aurora   \n",
       "4           4       478959  2013-01-07  North Carolina     Greensboro   \n",
       "\n",
       "   number_killed  number_injured  congressional_district  \\\n",
       "0              0               4                    14.0   \n",
       "1              1               3                    43.0   \n",
       "2              1               3                     9.0   \n",
       "3              4               0                     6.0   \n",
       "4              2               2                     6.0   \n",
       "\n",
       "                            incident_characteristics  latitude  longitude  \\\n",
       "0  Shot - Wounded/Injured||Mass Shooting (4+ vict...   40.3467   -79.8559   \n",
       "1  Shot - Wounded/Injured||Shot - Dead (murder, a...   33.9090  -118.3330   \n",
       "2  Shot - Wounded/Injured||Shot - Dead (murder, a...   41.4455   -82.1377   \n",
       "3  Shot - Dead (murder, accidental, suicide)||Off...   39.6518  -104.8020   \n",
       "4  Shot - Wounded/Injured||Shot - Dead (murder, a...   36.1140   -79.9569   \n",
       "\n",
       "   number_guns_involved                                              notes  \\\n",
       "0                   1.0  Julian Sims under investigation: Four Shot and...   \n",
       "1                   1.0  Four Shot; One Killed; Unidentified shooter in...   \n",
       "2                   2.0                                                NaN   \n",
       "3                   1.0                                                NaN   \n",
       "4                   2.0  Two firearms recovered. (Attempted) murder sui...   \n",
       "\n",
       "                     participant_age  \\\n",
       "0                              0::20   \n",
       "1                              0::20   \n",
       "2  0::25||1::31||2::33||3::34||4::33   \n",
       "3         0::29||1::33||2::56||3::33   \n",
       "4         0::18||1::46||2::14||3::47   \n",
       "\n",
       "                               participant_age_group  year       day    month  \\\n",
       "0  0::Adult 18+||1::Adult 18+||2::Adult 18+||3::A...  2013   Tuesday  January   \n",
       "1  0::Adult 18+||1::Adult 18+||2::Adult 18+||3::A...  2013   Tuesday  January   \n",
       "2  0::Adult 18+||1::Adult 18+||2::Adult 18+||3::A...  2013   Tuesday  January   \n",
       "3  0::Adult 18+||1::Adult 18+||2::Adult 18+||3::A...  2013  Saturday  January   \n",
       "4  0::Adult 18+||1::Adult 18+||2::Teen 12-17||3::...  2013    Monday  January   \n",
       "\n",
       "                        place  \n",
       "0    Mckeesport, Pennsylvania  \n",
       "1       Hawthorne, California  \n",
       "2                Lorain, Ohio  \n",
       "3            Aurora, Colorado  \n",
       "4  Greensboro, North Carolina  "
      ]
     },
     "execution_count": 11,
     "metadata": {},
     "output_type": "execute_result"
    }
   ],
   "source": [
    "df_guns3.head()"
   ]
  },
  {
   "cell_type": "code",
   "execution_count": 12,
   "id": "5d3d9fa1",
   "metadata": {},
   "outputs": [
    {
     "data": {
      "text/plain": [
       "(239677, 19)"
      ]
     },
     "execution_count": 12,
     "metadata": {},
     "output_type": "execute_result"
    }
   ],
   "source": [
    "df_guns3.shape"
   ]
  },
  {
   "cell_type": "code",
   "execution_count": 15,
   "id": "05ef7646",
   "metadata": {},
   "outputs": [],
   "source": [
    "df_guns3 = df_guns3.drop(columns = ['Unnamed: 0'])"
   ]
  },
  {
   "cell_type": "code",
   "execution_count": 16,
   "id": "db4e0774",
   "metadata": {},
   "outputs": [
    {
     "name": "stdout",
     "output_type": "stream",
     "text": [
      "<class 'pandas.core.frame.DataFrame'>\n",
      "RangeIndex: 239677 entries, 0 to 239676\n",
      "Data columns (total 18 columns):\n",
      " #   Column                    Non-Null Count   Dtype  \n",
      "---  ------                    --------------   -----  \n",
      " 0   incident_id               239677 non-null  int64  \n",
      " 1   date                      239677 non-null  object \n",
      " 2   STATE_NAME                239677 non-null  object \n",
      " 3   city_or_county            239677 non-null  object \n",
      " 4   number_killed             239677 non-null  int64  \n",
      " 5   number_injured            239677 non-null  int64  \n",
      " 6   congressional_district    227733 non-null  float64\n",
      " 7   incident_characteristics  239351 non-null  object \n",
      " 8   latitude                  231754 non-null  float64\n",
      " 9   longitude                 231754 non-null  float64\n",
      " 10  number_guns_involved      239677 non-null  float64\n",
      " 11  notes                     158660 non-null  object \n",
      " 12  participant_age           147379 non-null  object \n",
      " 13  participant_age_group     197558 non-null  object \n",
      " 14  year                      239677 non-null  int64  \n",
      " 15  day                       239677 non-null  object \n",
      " 16  month                     239677 non-null  object \n",
      " 17  place                     239677 non-null  object \n",
      "dtypes: float64(4), int64(4), object(10)\n",
      "memory usage: 32.9+ MB\n"
     ]
    }
   ],
   "source": [
    "df_guns3.info()"
   ]
  },
  {
   "cell_type": "code",
   "execution_count": 42,
   "id": "bb587666",
   "metadata": {},
   "outputs": [],
   "source": [
    "vars_list = ['number_killed', 'number_injured','number_guns_involved', 'latitude', 'longitude']"
   ]
  },
  {
   "cell_type": "code",
   "execution_count": 43,
   "id": "c80ff69f",
   "metadata": {},
   "outputs": [
    {
     "data": {
      "text/plain": [
       "['number_killed',\n",
       " 'number_injured',\n",
       " 'number_guns_involved',\n",
       " 'latitude',\n",
       " 'longitude']"
      ]
     },
     "execution_count": 43,
     "metadata": {},
     "output_type": "execute_result"
    }
   ],
   "source": [
    "vars_list"
   ]
  },
  {
   "cell_type": "code",
   "execution_count": 44,
   "id": "6c0a56e9",
   "metadata": {},
   "outputs": [],
   "source": [
    "df_GV = pd.read_csv(os.path.join(path, '02 Data', 'Prepared Data', 'guns_3.csv'), usecols = vars_list)"
   ]
  },
  {
   "cell_type": "code",
   "execution_count": 45,
   "id": "ec7b8f65",
   "metadata": {
    "scrolled": true
   },
   "outputs": [
    {
     "data": {
      "text/plain": [
       "number_killed              0\n",
       "number_injured             0\n",
       "latitude                7923\n",
       "longitude               7923\n",
       "number_guns_involved       0\n",
       "dtype: int64"
      ]
     },
     "execution_count": 45,
     "metadata": {},
     "output_type": "execute_result"
    }
   ],
   "source": [
    "df_GV.isnull().sum()"
   ]
  },
  {
   "cell_type": "code",
   "execution_count": 47,
   "id": "29ae512e",
   "metadata": {},
   "outputs": [],
   "source": [
    "df_GV2 = df_GV[df_GV['latitude'].isnull() == False]"
   ]
  },
  {
   "cell_type": "code",
   "execution_count": 48,
   "id": "c89c6e95",
   "metadata": {},
   "outputs": [],
   "source": [
    "df_GV2 = df_GV[df_GV['longitude'].isnull() == False]"
   ]
  },
  {
   "cell_type": "code",
   "execution_count": 49,
   "id": "28810213",
   "metadata": {},
   "outputs": [
    {
     "data": {
      "text/plain": [
       "(231754, 5)"
      ]
     },
     "execution_count": 49,
     "metadata": {},
     "output_type": "execute_result"
    }
   ],
   "source": [
    "df_GV2.shape"
   ]
  },
  {
   "cell_type": "markdown",
   "id": "8322f7e9",
   "metadata": {},
   "source": [
    "### The elbow technique"
   ]
  },
  {
   "cell_type": "markdown",
   "id": "b74bcf5d",
   "metadata": {},
   "source": [
    "<div id = \"elbow\"></div>"
   ]
  },
  {
   "cell_type": "code",
   "execution_count": 50,
   "id": "6f7ff54d",
   "metadata": {},
   "outputs": [],
   "source": [
    "num_cl = range(1, 10) # Defines the range of potential clusters in the data.\n",
    "kmeans = [KMeans(n_clusters=i) for i in num_cl] # Defines k-means clusters in the range assigned above.d"
   ]
  },
  {
   "cell_type": "code",
   "execution_count": 51,
   "id": "a9600bd3",
   "metadata": {},
   "outputs": [
    {
     "name": "stderr",
     "output_type": "stream",
     "text": [
      "C:\\Users\\rpa21\\anaconda3\\Lib\\site-packages\\sklearn\\cluster\\_kmeans.py:1412: FutureWarning: The default value of `n_init` will change from 10 to 'auto' in 1.4. Set the value of `n_init` explicitly to suppress the warning\n",
      "  super()._check_params_vs_input(X, default_n_init=10)\n",
      "C:\\Users\\rpa21\\anaconda3\\Lib\\site-packages\\sklearn\\cluster\\_kmeans.py:1412: FutureWarning: The default value of `n_init` will change from 10 to 'auto' in 1.4. Set the value of `n_init` explicitly to suppress the warning\n",
      "  super()._check_params_vs_input(X, default_n_init=10)\n",
      "C:\\Users\\rpa21\\anaconda3\\Lib\\site-packages\\sklearn\\cluster\\_kmeans.py:1412: FutureWarning: The default value of `n_init` will change from 10 to 'auto' in 1.4. Set the value of `n_init` explicitly to suppress the warning\n",
      "  super()._check_params_vs_input(X, default_n_init=10)\n",
      "C:\\Users\\rpa21\\anaconda3\\Lib\\site-packages\\sklearn\\cluster\\_kmeans.py:1412: FutureWarning: The default value of `n_init` will change from 10 to 'auto' in 1.4. Set the value of `n_init` explicitly to suppress the warning\n",
      "  super()._check_params_vs_input(X, default_n_init=10)\n",
      "C:\\Users\\rpa21\\anaconda3\\Lib\\site-packages\\sklearn\\cluster\\_kmeans.py:1412: FutureWarning: The default value of `n_init` will change from 10 to 'auto' in 1.4. Set the value of `n_init` explicitly to suppress the warning\n",
      "  super()._check_params_vs_input(X, default_n_init=10)\n",
      "C:\\Users\\rpa21\\anaconda3\\Lib\\site-packages\\sklearn\\cluster\\_kmeans.py:1412: FutureWarning: The default value of `n_init` will change from 10 to 'auto' in 1.4. Set the value of `n_init` explicitly to suppress the warning\n",
      "  super()._check_params_vs_input(X, default_n_init=10)\n",
      "C:\\Users\\rpa21\\anaconda3\\Lib\\site-packages\\sklearn\\cluster\\_kmeans.py:1412: FutureWarning: The default value of `n_init` will change from 10 to 'auto' in 1.4. Set the value of `n_init` explicitly to suppress the warning\n",
      "  super()._check_params_vs_input(X, default_n_init=10)\n",
      "C:\\Users\\rpa21\\anaconda3\\Lib\\site-packages\\sklearn\\cluster\\_kmeans.py:1412: FutureWarning: The default value of `n_init` will change from 10 to 'auto' in 1.4. Set the value of `n_init` explicitly to suppress the warning\n",
      "  super()._check_params_vs_input(X, default_n_init=10)\n",
      "C:\\Users\\rpa21\\anaconda3\\Lib\\site-packages\\sklearn\\cluster\\_kmeans.py:1412: FutureWarning: The default value of `n_init` will change from 10 to 'auto' in 1.4. Set the value of `n_init` explicitly to suppress the warning\n",
      "  super()._check_params_vs_input(X, default_n_init=10)\n"
     ]
    },
    {
     "data": {
      "text/plain": [
       "[-57120598.33521688,\n",
       " -22711738.29413595,\n",
       " -15487605.65466158,\n",
       " -12838508.588334426,\n",
       " -10518228.139102608,\n",
       " -8580164.720129281,\n",
       " -6736651.551467558,\n",
       " -5875786.500626838,\n",
       " -5357260.586740338]"
      ]
     },
     "execution_count": 51,
     "metadata": {},
     "output_type": "execute_result"
    }
   ],
   "source": [
    "score = [kmeans[i].fit(df_GV2).score(df_GV2) for i in range(len(kmeans))]\n",
    "# Creates a score that represents a rate of variation for the given cluster option.\n",
    "\n",
    "score"
   ]
  },
  {
   "cell_type": "code",
   "execution_count": 52,
   "id": "92bd6227",
   "metadata": {},
   "outputs": [
    {
     "data": {
      "image/png": "[encoded data removed]",
      "text/plain": [
       "<Figure size 640x480 with 1 Axes>"
      ]
     },
     "metadata": {},
     "output_type": "display_data"
    }
   ],
   "source": [
    "# Plot the elbow curve using PyLab.\n",
    "\n",
    "pl.plot(num_cl,score)\n",
    "pl.xlabel('Number of Clusters')\n",
    "pl.ylabel('Score')\n",
    "pl.title('Elbow Curve')\n",
    "pl.show()"
   ]
  },
  {
   "cell_type": "markdown",
   "id": "d543fd40",
   "metadata": {},
   "source": [
    "There is a large jump from two to three on the x-axis. The curve then, straightens out. \n",
    "This means that the optimal count for the clusters is three."
   ]
  },
  {
   "cell_type": "markdown",
   "id": "198847cf",
   "metadata": {},
   "source": [
    "### k-means Clustering"
   ]
  },
  {
   "cell_type": "markdown",
   "id": "1a96b31c",
   "metadata": {},
   "source": [
    "<div id = \"k-means\"></div>"
   ]
  },
  {
   "cell_type": "code",
   "execution_count": 53,
   "id": "aadaa4d5",
   "metadata": {},
   "outputs": [],
   "source": [
    "# Create the k-means object.\n",
    "\n",
    "kmeans = KMeans(n_clusters = 3) "
   ]
  },
  {
   "cell_type": "code",
   "execution_count": 54,
   "id": "e765f9cd",
   "metadata": {},
   "outputs": [
    {
     "name": "stderr",
     "output_type": "stream",
     "text": [
      "C:\\Users\\rpa21\\anaconda3\\Lib\\site-packages\\sklearn\\cluster\\_kmeans.py:1412: FutureWarning: The default value of `n_init` will change from 10 to 'auto' in 1.4. Set the value of `n_init` explicitly to suppress the warning\n",
      "  super()._check_params_vs_input(X, default_n_init=10)\n"
     ]
    },
    {
     "data": {
      "text/html": [
       "<style>#sk-container-id-2 {color: black;}#sk-container-id-2 pre{padding: 0;}#sk-container-id-2 div.sk-toggleable {background-color: white;}#sk-container-id-2 label.sk-toggleable__label {cursor: pointer;display: block;width: 100%;margin-bottom: 0;padding: 0.3em;box-sizing: border-box;text-align: center;}#sk-container-id-2 label.sk-toggleable__label-arrow:before {content: \"▸\";float: left;margin-right: 0.25em;color: #696969;}#sk-container-id-2 label.sk-toggleable__label-arrow:hover:before {color: black;}#sk-container-id-2 div.sk-estimator:hover label.sk-toggleable__label-arrow:before {color: black;}#sk-container-id-2 div.sk-toggleable__content {max-height: 0;max-width: 0;overflow: hidden;text-align: left;background-color: #f0f8ff;}#sk-container-id-2 div.sk-toggleable__content pre {margin: 0.2em;color: black;border-radius: 0.25em;background-color: #f0f8ff;}#sk-container-id-2 input.sk-toggleable__control:checked~div.sk-toggleable__content {max-height: 200px;max-width: 100%;overflow: auto;}#sk-container-id-2 input.sk-toggleable__control:checked~label.sk-toggleable__label-arrow:before {content: \"▾\";}#sk-container-id-2 div.sk-estimator input.sk-toggleable__control:checked~label.sk-toggleable__label {background-color: #d4ebff;}#sk-container-id-2 div.sk-label input.sk-toggleable__control:checked~label.sk-toggleable__label {background-color: #d4ebff;}#sk-container-id-2 input.sk-hidden--visually {border: 0;clip: rect(1px 1px 1px 1px);clip: rect(1px, 1px, 1px, 1px);height: 1px;margin: -1px;overflow: hidden;padding: 0;position: absolute;width: 1px;}#sk-container-id-2 div.sk-estimator {font-family: monospace;background-color: #f0f8ff;border: 1px dotted black;border-radius: 0.25em;box-sizing: border-box;margin-bottom: 0.5em;}#sk-container-id-2 div.sk-estimator:hover {background-color: #d4ebff;}#sk-container-id-2 div.sk-parallel-item::after {content: \"\";width: 100%;border-bottom: 1px solid gray;flex-grow: 1;}#sk-container-id-2 div.sk-label:hover label.sk-toggleable__label {background-color: #d4ebff;}#sk-container-id-2 div.sk-serial::before {content: \"\";position: absolute;border-left: 1px solid gray;box-sizing: border-box;top: 0;bottom: 0;left: 50%;z-index: 0;}#sk-container-id-2 div.sk-serial {display: flex;flex-direction: column;align-items: center;background-color: white;padding-right: 0.2em;padding-left: 0.2em;position: relative;}#sk-container-id-2 div.sk-item {position: relative;z-index: 1;}#sk-container-id-2 div.sk-parallel {display: flex;align-items: stretch;justify-content: center;background-color: white;position: relative;}#sk-container-id-2 div.sk-item::before, #sk-container-id-2 div.sk-parallel-item::before {content: \"\";position: absolute;border-left: 1px solid gray;box-sizing: border-box;top: 0;bottom: 0;left: 50%;z-index: -1;}#sk-container-id-2 div.sk-parallel-item {display: flex;flex-direction: column;z-index: 1;position: relative;background-color: white;}#sk-container-id-2 div.sk-parallel-item:first-child::after {align-self: flex-end;width: 50%;}#sk-container-id-2 div.sk-parallel-item:last-child::after {align-self: flex-start;width: 50%;}#sk-container-id-2 div.sk-parallel-item:only-child::after {width: 0;}#sk-container-id-2 div.sk-dashed-wrapped {border: 1px dashed gray;margin: 0 0.4em 0.5em 0.4em;box-sizing: border-box;padding-bottom: 0.4em;background-color: white;}#sk-container-id-2 div.sk-label label {font-family: monospace;font-weight: bold;display: inline-block;line-height: 1.2em;}#sk-container-id-2 div.sk-label-container {text-align: center;}#sk-container-id-2 div.sk-container {/* jupyter's `normalize.less` sets `[hidden] { display: none; }` but bootstrap.min.css set `[hidden] { display: none !important; }` so we also need the `!important` here to be able to override the default hidden behavior on the sphinx rendered scikit-learn.org. See: https://github.com/scikit-learn/scikit-learn/issues/21755 */display: inline-block !important;position: relative;}#sk-container-id-2 div.sk-text-repr-fallback {display: none;}</style><div id=\"sk-container-id-2\" class=\"sk-top-container\"><div class=\"sk-text-repr-fallback\"><pre>KMeans(n_clusters=3)</pre><b>In a Jupyter environment, please rerun this cell to show the HTML representation or trust the notebook. <br />On GitHub, the HTML representation is unable to render, please try loading this page with nbviewer.org.</b></div><div class=\"sk-container\" hidden><div class=\"sk-item\"><div class=\"sk-estimator sk-toggleable\"><input class=\"sk-toggleable__control sk-hidden--visually\" id=\"sk-estimator-id-2\" type=\"checkbox\" checked><label for=\"sk-estimator-id-2\" class=\"sk-toggleable__label sk-toggleable__label-arrow\">KMeans</label><div class=\"sk-toggleable__content\"><pre>KMeans(n_clusters=3)</pre></div></div></div></div></div>"
      ],
      "text/plain": [
       "KMeans(n_clusters=3)"
      ]
     },
     "execution_count": 54,
     "metadata": {},
     "output_type": "execute_result"
    }
   ],
   "source": [
    "# Fit the k-means object to the data.\n",
    "\n",
    "kmeans.fit(df_GV2)"
   ]
  },
  {
   "cell_type": "code",
   "execution_count": 56,
   "id": "e8f84197",
   "metadata": {},
   "outputs": [
    {
     "name": "stderr",
     "output_type": "stream",
     "text": [
      "C:\\Users\\rpa21\\anaconda3\\Lib\\site-packages\\sklearn\\cluster\\_kmeans.py:1412: FutureWarning: The default value of `n_init` will change from 10 to 'auto' in 1.4. Set the value of `n_init` explicitly to suppress the warning\n",
      "  super()._check_params_vs_input(X, default_n_init=10)\n",
      "C:\\Users\\rpa21\\AppData\\Local\\Temp\\ipykernel_29144\\666027587.py:1: SettingWithCopyWarning: \n",
      "A value is trying to be set on a copy of a slice from a DataFrame.\n",
      "Try using .loc[row_indexer,col_indexer] = value instead\n",
      "\n",
      "See the caveats in the documentation: https://pandas.pydata.org/pandas-docs/stable/user_guide/indexing.html#returning-a-view-versus-a-copy\n",
      "  df_GV2['clusters'] = kmeans.fit_predict(df_GV2)\n"
     ]
    }
   ],
   "source": [
    "df_GV2['clusters'] = kmeans.fit_predict(df_GV2)"
   ]
  },
  {
   "cell_type": "code",
   "execution_count": 57,
   "id": "e7bb0ed1",
   "metadata": {},
   "outputs": [
    {
     "data": {
      "text/html": [
       "<div>\n",
       "<style scoped>\n",
       "    .dataframe tbody tr th:only-of-type {\n",
       "        vertical-align: middle;\n",
       "    }\n",
       "\n",
       "    .dataframe tbody tr th {\n",
       "        vertical-align: top;\n",
       "    }\n",
       "\n",
       "    .dataframe thead th {\n",
       "        text-align: right;\n",
       "    }\n",
       "</style>\n",
       "<table border=\"1\" class=\"dataframe\">\n",
       "  <thead>\n",
       "    <tr style=\"text-align: right;\">\n",
       "      <th></th>\n",
       "      <th>number_killed</th>\n",
       "      <th>number_injured</th>\n",
       "      <th>latitude</th>\n",
       "      <th>longitude</th>\n",
       "      <th>number_guns_involved</th>\n",
       "      <th>clusters</th>\n",
       "    </tr>\n",
       "  </thead>\n",
       "  <tbody>\n",
       "    <tr>\n",
       "      <th>0</th>\n",
       "      <td>0</td>\n",
       "      <td>4</td>\n",
       "      <td>40.3467</td>\n",
       "      <td>-79.8559</td>\n",
       "      <td>1.0</td>\n",
       "      <td>0</td>\n",
       "    </tr>\n",
       "    <tr>\n",
       "      <th>1</th>\n",
       "      <td>1</td>\n",
       "      <td>3</td>\n",
       "      <td>33.9090</td>\n",
       "      <td>-118.3330</td>\n",
       "      <td>1.0</td>\n",
       "      <td>1</td>\n",
       "    </tr>\n",
       "    <tr>\n",
       "      <th>2</th>\n",
       "      <td>1</td>\n",
       "      <td>3</td>\n",
       "      <td>41.4455</td>\n",
       "      <td>-82.1377</td>\n",
       "      <td>2.0</td>\n",
       "      <td>0</td>\n",
       "    </tr>\n",
       "    <tr>\n",
       "      <th>3</th>\n",
       "      <td>4</td>\n",
       "      <td>0</td>\n",
       "      <td>39.6518</td>\n",
       "      <td>-104.8020</td>\n",
       "      <td>1.0</td>\n",
       "      <td>2</td>\n",
       "    </tr>\n",
       "    <tr>\n",
       "      <th>4</th>\n",
       "      <td>2</td>\n",
       "      <td>2</td>\n",
       "      <td>36.1140</td>\n",
       "      <td>-79.9569</td>\n",
       "      <td>2.0</td>\n",
       "      <td>0</td>\n",
       "    </tr>\n",
       "  </tbody>\n",
       "</table>\n",
       "</div>"
      ],
      "text/plain": [
       "   number_killed  number_injured  latitude  longitude  number_guns_involved  \\\n",
       "0              0               4   40.3467   -79.8559                   1.0   \n",
       "1              1               3   33.9090  -118.3330                   1.0   \n",
       "2              1               3   41.4455   -82.1377                   2.0   \n",
       "3              4               0   39.6518  -104.8020                   1.0   \n",
       "4              2               2   36.1140   -79.9569                   2.0   \n",
       "\n",
       "   clusters  \n",
       "0         0  \n",
       "1         1  \n",
       "2         0  \n",
       "3         2  \n",
       "4         0  "
      ]
     },
     "execution_count": 57,
     "metadata": {},
     "output_type": "execute_result"
    }
   ],
   "source": [
    "df_GV2.head()"
   ]
  },
  {
   "cell_type": "code",
   "execution_count": 58,
   "id": "b3d63624",
   "metadata": {},
   "outputs": [
    {
     "data": {
      "text/plain": [
       "clusters\n",
       "0    107019\n",
       "2     92890\n",
       "1     31845\n",
       "Name: count, dtype: int64"
      ]
     },
     "execution_count": 58,
     "metadata": {},
     "output_type": "execute_result"
    }
   ],
   "source": [
    "df_GV2['clusters'].value_counts()"
   ]
  },
  {
   "cell_type": "code",
   "execution_count": 71,
   "id": "be676f4e",
   "metadata": {},
   "outputs": [
    {
     "data": {
      "image/png": "[encoded data removed]",
      "text/plain": [
       "<Figure size 1200x800 with 1 Axes>"
      ]
     },
     "metadata": {},
     "output_type": "display_data"
    }
   ],
   "source": [
    "# Plot the clusters for the 'number_of_guns' involved and 'number_killed' variables.\n",
    "\n",
    "plt.figure(figsize=(12,8))\n",
    "ax = sns.scatterplot(x=df_GV2['number_guns_involved'], y=df_GV2['number_killed'], hue=kmeans.labels_, s=100) \n",
    "# Here, you're subsetting `X` for the x and y arguments to avoid using their labels. \n",
    "# `hue` takes the value of the attribute `kmeans.labels_`, which is the result of running the k-means algorithm.\n",
    "# `s` represents the size of the points you want to see in the plot.\n",
    "\n",
    "ax.grid(False) # This removes the grid from the background.\n",
    "plt.xlabel('Number of guns involved') # Label x-axis.\n",
    "plt.ylabel('Number killed') # Label y-axis.\n",
    "plt.show()\n"
   ]
  },
  {
   "cell_type": "markdown",
   "id": "814bc6bd",
   "metadata": {},
   "source": []
  },
  {
   "cell_type": "code",
   "execution_count": 61,
   "id": "c8352d3c",
   "metadata": {},
   "outputs": [
    {
     "data": {
      "image/png": "[encoded data removed]",
      "text/plain": [
       "<Figure size 1200x800 with 1 Axes>"
      ]
     },
     "metadata": {},
     "output_type": "display_data"
    }
   ],
   "source": [
    "# Plot the clusters for the 'number_guns_involved' and 'number_injured' variables.\n",
    "\n",
    "plt.figure(figsize=(12,8))\n",
    "ax = sns.scatterplot(x=df_GV2['number_guns_involved'], y=df_GV2['number_injured'], hue=kmeans.labels_, s=100)\n",
    "\n",
    "ax.grid(False) \n",
    "plt.xlabel('Number of Guns Involved') \n",
    "plt.ylabel('Number_injured') \n",
    "plt.show()"
   ]
  },
  {
   "cell_type": "markdown",
   "id": "d096e84b",
   "metadata": {},
   "source": [
    "The most populated clusters, in the two charts, are the '0' values. These represent guns involved where no one was injured or killed. \n",
    "They span all number of guns involved and numbered  killed or dinjured. \n",
    "The clustering of 1 and 2 guns involved shows the number injured does not increase\n",
    "with the number of guns involved, suggesting it takes just one or two guns to create a violent and deadly situation.  "
   ]
  },
  {
   "cell_type": "code",
   "execution_count": 65,
   "id": "479f9b0a",
   "metadata": {},
   "outputs": [],
   "source": [
    "df_GV2.loc[df_GV2['clusters'] == 2, 'cluster'] = 'dark purple'\n",
    "df_GV2.loc[df_GV2['clusters'] == 1, 'cluster'] = 'purple'\n",
    "df_GV2.loc[df_GV2['clusters'] == 0, 'cluster'] = 'pink'"
   ]
  },
  {
   "cell_type": "code",
   "execution_count": 66,
   "id": "dc914263",
   "metadata": {},
   "outputs": [
    {
     "data": {
      "text/html": [
       "<div>\n",
       "<style scoped>\n",
       "    .dataframe tbody tr th:only-of-type {\n",
       "        vertical-align: middle;\n",
       "    }\n",
       "\n",
       "    .dataframe tbody tr th {\n",
       "        vertical-align: top;\n",
       "    }\n",
       "\n",
       "    .dataframe thead tr th {\n",
       "        text-align: left;\n",
       "    }\n",
       "\n",
       "    .dataframe thead tr:last-of-type th {\n",
       "        text-align: right;\n",
       "    }\n",
       "</style>\n",
       "<table border=\"1\" class=\"dataframe\">\n",
       "  <thead>\n",
       "    <tr>\n",
       "      <th></th>\n",
       "      <th colspan=\"2\" halign=\"left\">number_killed</th>\n",
       "      <th colspan=\"2\" halign=\"left\">number_injured</th>\n",
       "      <th colspan=\"2\" halign=\"left\">number_guns_involved</th>\n",
       "    </tr>\n",
       "    <tr>\n",
       "      <th></th>\n",
       "      <th>mean</th>\n",
       "      <th>median</th>\n",
       "      <th>mean</th>\n",
       "      <th>median</th>\n",
       "      <th>mean</th>\n",
       "      <th>median</th>\n",
       "    </tr>\n",
       "    <tr>\n",
       "      <th>cluster</th>\n",
       "      <th></th>\n",
       "      <th></th>\n",
       "      <th></th>\n",
       "      <th></th>\n",
       "      <th></th>\n",
       "      <th></th>\n",
       "    </tr>\n",
       "  </thead>\n",
       "  <tbody>\n",
       "    <tr>\n",
       "      <th>dark purple</th>\n",
       "      <td>0.253504</td>\n",
       "      <td>0.0</td>\n",
       "      <td>0.533351</td>\n",
       "      <td>0.0</td>\n",
       "      <td>1.163688</td>\n",
       "      <td>1.0</td>\n",
       "    </tr>\n",
       "    <tr>\n",
       "      <th>pink</th>\n",
       "      <td>0.221792</td>\n",
       "      <td>0.0</td>\n",
       "      <td>0.485241</td>\n",
       "      <td>0.0</td>\n",
       "      <td>1.209122</td>\n",
       "      <td>1.0</td>\n",
       "    </tr>\n",
       "    <tr>\n",
       "      <th>purple</th>\n",
       "      <td>0.310692</td>\n",
       "      <td>0.0</td>\n",
       "      <td>0.410174</td>\n",
       "      <td>0.0</td>\n",
       "      <td>1.393374</td>\n",
       "      <td>1.0</td>\n",
       "    </tr>\n",
       "  </tbody>\n",
       "</table>\n",
       "</div>"
      ],
      "text/plain": [
       "            number_killed        number_injured        number_guns_involved  \\\n",
       "                     mean median           mean median                 mean   \n",
       "cluster                                                                       \n",
       "dark purple      0.253504    0.0       0.533351    0.0             1.163688   \n",
       "pink             0.221792    0.0       0.485241    0.0             1.209122   \n",
       "purple           0.310692    0.0       0.410174    0.0             1.393374   \n",
       "\n",
       "                    \n",
       "            median  \n",
       "cluster             \n",
       "dark purple    1.0  \n",
       "pink           1.0  \n",
       "purple         1.0  "
      ]
     },
     "execution_count": 66,
     "metadata": {},
     "output_type": "execute_result"
    }
   ],
   "source": [
    "df_GV2.groupby('cluster').agg({'number_killed':['mean', 'median'], \n",
    "                         'number_injured':['mean', 'median'], \n",
    "                         'number_guns_involved':['mean', 'median']})"
   ]
  },
  {
   "cell_type": "markdown",
   "id": "dae2ba9b",
   "metadata": {},
   "source": [
    "The statistics do not vary much.  This suggests that the number of guns involved doe not \n",
    "reflect the number of people injured or killed in gun violence.  "
   ]
  },
  {
   "cell_type": "markdown",
   "id": "f8355e10",
   "metadata": {},
   "source": [
    "The large number of guns in the data are also from raids where there was only one gun used or a few guns used but many found \n",
    "or confiscated by officers.  In hte realm of gun violence, this comes in many forms.  This can be any number of guns used but not necessarily resulting in injuries or deaths.  It is an interesting study.  I think there are so many factors/variables that need ot be analyzed that are not present in this dataframe, in order to determine the reasons for gun violence.  "
   ]
  },
  {
   "cell_type": "code",
   "execution_count": null,
   "id": "ab0b93bc",
   "metadata": {},
   "outputs": [],
   "source": []
  }
 ],
 "metadata": {
  "kernelspec": {
   "display_name": "Python 3 (ipykernel)",
   "language": "python",
   "name": "python3"
  },
  "language_info": {
   "codemirror_mode": {
    "name": "ipython",
    "version": 3
   },
   "file_extension": ".py",
   "mimetype": "text/x-python",
   "name": "python",
   "nbconvert_exporter": "python",
   "pygments_lexer": "ipython3",
   "version": "3.11.5"
  }
 },
 "nbformat": 4,
 "nbformat_minor": 5
}
