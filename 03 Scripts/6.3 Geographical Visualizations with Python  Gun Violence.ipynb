{
 "cells": [
  {
   "cell_type": "markdown",
   "id": "4d946d0c",
   "metadata": {},
   "source": [
    "# 6.3 Geographical Visualizations with Python - 6.3:  Gun Violence in US"
   ]
  },
  {
   "cell_type": "markdown",
   "id": "91ce62a5",
   "metadata": {},
   "source": [
    "1.  [Import Libraries and Data](#lib)"
   ]
  },
  {
   "cell_type": "markdown",
   "id": "00a90d90",
   "metadata": {},
   "source": [
    "2. [Data Cleaning](#clean)"
   ]
  },
  {
   "cell_type": "markdown",
   "id": "aa6e8d62",
   "metadata": {},
   "source": [
    "3.  [Creating Map Visualizations](#map)"
   ]
  },
  {
   "cell_type": "markdown",
   "id": "fff0ef87",
   "metadata": {},
   "source": [
    "4.  [Conclusions](#con)"
   ]
  },
  {
   "cell_type": "markdown",
   "id": "f92ab543",
   "metadata": {},
   "source": [
    "5. [Saving Data](#save)"
   ]
  },
  {
   "cell_type": "code",
   "execution_count": 4,
   "id": "77fd8e54",
   "metadata": {},
   "outputs": [],
   "source": [
    "# Import Libraries\n",
    "import pandas as pd\n",
    "import numpy as np\n",
    "import seaborn as sns\n",
    "import matplotlib\n",
    "import os\n",
    "import folium\n",
    "import json"
   ]
  },
  {
   "cell_type": "markdown",
   "id": "39e5ff0f",
   "metadata": {},
   "source": [
    "<div id = \"lib\"></div>"
   ]
  },
  {
   "cell_type": "code",
   "execution_count": 28,
   "id": "5ef0b05a",
   "metadata": {},
   "outputs": [],
   "source": [
    "# This command propts matplotlib visuals to appear in the notebook \n",
    "\n",
    "%matplotlib inline"
   ]
  },
  {
   "cell_type": "code",
   "execution_count": 2,
   "id": "d54bb005",
   "metadata": {},
   "outputs": [],
   "source": [
    "# Creating a path\n",
    "path = r'C:\\Users\\rpa21\\Gun Violence Analysis'"
   ]
  },
  {
   "cell_type": "code",
   "execution_count": 5,
   "id": "127b0915",
   "metadata": {},
   "outputs": [],
   "source": [
    "# importing data\n",
    "df_guns = pd.read_csv(os.path.join(path, '02 Data', 'Prepared Data', 'guns_cleaned.csv'), index_col = False)"
   ]
  },
  {
   "cell_type": "code",
   "execution_count": 31,
   "id": "a0a12ef3",
   "metadata": {},
   "outputs": [],
   "source": [
    "#importing json\n",
    "country_geo = r'C:\\Users\\rpa21\\OneDrive\\Documents\\us-states.json2'"
   ]
  },
  {
   "cell_type": "code",
   "execution_count": null,
   "id": "c8189e22",
   "metadata": {},
   "outputs": [],
   "source": [
    "# look at the JSON file contents \n",
    "\n",
    "f = open(r'C:\\Users\\rpa21\\OneDrive\\Documents\\us-states.json2')\n",
    "  \n",
    "# returns JSON object asa dictionary\n",
    "data = json.load(f)\n",
    "  \n",
    "# Iterating through the json list\n",
    "for i in data['features']:\n",
    "    print(i)"
   ]
  },
  {
   "cell_type": "markdown",
   "id": "5733955f",
   "metadata": {},
   "source": [
    "<div id = \"clean\"></div>"
   ]
  },
  {
   "cell_type": "markdown",
   "id": "724cc411",
   "metadata": {},
   "source": [
    "Data Cleaning"
   ]
  },
  {
   "cell_type": "code",
   "execution_count": 32,
   "id": "87445e5e",
   "metadata": {},
   "outputs": [],
   "source": [
    "#Renaming the state column to match JSON\n",
    "df_guns.rename(columns = {'state' : 'STATE_NAME'}, inplace = True)"
   ]
  },
  {
   "cell_type": "code",
   "execution_count": null,
   "id": "652fcc8c",
   "metadata": {},
   "outputs": [],
   "source": [
    "df_guns.info()"
   ]
  },
  {
   "cell_type": "code",
   "execution_count": 35,
   "id": "3f47bd00",
   "metadata": {},
   "outputs": [],
   "source": [
    "# if 'age' column has NaNs and it's critical, we might choose to fill it with the median age\n",
    "if 'age' in df_guns.columns:\n",
    "    df_guns['age'].fillna(df_guns['age'].median(), inplace=True)\n",
    "\n",
    "# drop rows where any key column has a missing value\n",
    "df_guns.dropna(subset=['date', 'number_killed', 'number_injured'], inplace=True)\n",
    "\n",
    "# Ensure the incident date is in datetime format\n",
    "df_guns['date'] = pd.to_datetime(df_guns['date'])\n",
    "\n",
    "\n",
    "# Standardizing text to lower case for a specific column, e.g., 'city_or_county'\n",
    "df_guns['city_or_county'] = df_guns['city_or_county'].str.lower().str.strip()"
   ]
  },
  {
   "cell_type": "code",
   "execution_count": 36,
   "id": "66fd5fa4",
   "metadata": {},
   "outputs": [
    {
     "data": {
      "text/plain": [
       "Unnamed: 0                           int64\n",
       "incident_id                          int64\n",
       "date                        datetime64[ns]\n",
       "STATE_NAME                          object\n",
       "city_or_county                      object\n",
       "number_killed                        int64\n",
       "number_injured                       int64\n",
       "congressional_district             float64\n",
       "gun_stolen                          object\n",
       "gun_type                            object\n",
       "incident_characteristics            object\n",
       "latitude                           float64\n",
       "location_description                object\n",
       "longitude                          float64\n",
       "number_guns_involved               float64\n",
       "notes                               object\n",
       "participant_age                     object\n",
       "participant_age_group               object\n",
       "participant_gender                  object\n",
       "participant_relationship            object\n",
       "participant_status                  object\n",
       "participant_type                    object\n",
       "sources                             object\n",
       "dtype: object"
      ]
     },
     "execution_count": 36,
     "metadata": {},
     "output_type": "execute_result"
    }
   ],
   "source": [
    "df_guns.dtypes"
   ]
  },
  {
   "cell_type": "code",
   "execution_count": null,
   "id": "54171d71",
   "metadata": {},
   "outputs": [],
   "source": [
    "df_guns['STATE_NAME'].value_counts(dropna = False)"
   ]
  },
  {
   "cell_type": "markdown",
   "id": "b7f2da2d",
   "metadata": {},
   "source": [
    "<div id = \"map\"></div>"
   ]
  },
  {
   "cell_type": "markdown",
   "id": "f3223827",
   "metadata": {},
   "source": [
    "Creating Map Visualizations"
   ]
  },
  {
   "cell_type": "code",
   "execution_count": 38,
   "id": "b9180b0a",
   "metadata": {},
   "outputs": [],
   "source": [
    "# What to plot\n",
    "data_to_plot = df_guns[['STATE_NAME','number_killed']]"
   ]
  },
  {
   "cell_type": "code",
   "execution_count": 51,
   "id": "b46242e9",
   "metadata": {},
   "outputs": [],
   "source": [
    "# saving map\n",
    "map.save('plot_data.html')"
   ]
  },
  {
   "cell_type": "code",
   "execution_count": 49,
   "id": "f5eea891",
   "metadata": {},
   "outputs": [],
   "source": [
    "#creating injured map\n",
    "data_to_plot2 = df_guns[['STATE_NAME','number_injured']]"
   ]
  },
  {
   "cell_type": "code",
   "execution_count": 52,
   "id": "703696c8",
   "metadata": {},
   "outputs": [],
   "source": [
    "#saving map\n",
    "map.save('plot_data2.html')"
   ]
  },
  {
   "cell_type": "markdown",
   "id": "236fe2fa",
   "metadata": {},
   "source": [
    "<div id = \"con\"></div>"
   ]
  },
  {
   "cell_type": "markdown",
   "id": "a7b5cc99",
   "metadata": {},
   "source": [
    "Conclusions"
   ]
  },
  {
   "cell_type": "markdown",
   "id": "17f93b52",
   "metadata": {},
   "source": [
    "The maps show the states with gun  violence, who had the most people killed from the violence are:  California, Maine, Nevada, Pennsylvania, Texas, Massachusetts, New York, New Jersey. \n",
    "\n",
    "The states with the most people injured are:  North Carolina,  Wisconsi, Indiana, South Dakota, and Florida. \n",
    "\n",
    "Some of my quesions were answerd.  I will also be looking at total numbers for each of the states."
   ]
  },
  {
   "cell_type": "markdown",
   "id": "a9e07b0d",
   "metadata": {},
   "source": [
    "<div id = \"save\"></div>"
   ]
  },
  {
   "cell_type": "markdown",
   "id": "c91ce783",
   "metadata": {},
   "source": [
    "Hypotheses:\n",
    "\n",
    "*The number of guns used will directly affect the number of people killed or injured in gun violence crimes.\n",
    "\n",
    "*The states with major, large cities, California, Texas, Florida, New York, and Illinois, will have the most deaths and injuries from gun violence, and thus be at high risk.  \n",
    "\n",
    "*A person's age will have an effect on likelihood of being involved in gun related violence. \n",
    "\n",
    "*The time of year will have an effect on gun violence. "
   ]
  },
  {
   "cell_type": "code",
   "execution_count": 6,
   "id": "7e719ab6",
   "metadata": {},
   "outputs": [],
   "source": [
    "#saving dataframe\n",
    "df_guns.to_csv(os.path.join(path, '02 Data','Prepared Data', 'guns_2.csv'))"
   ]
  }
 ],
 "metadata": {
  "kernelspec": {
   "display_name": "Python 3 (ipykernel)",
   "language": "python",
   "name": "python3"
  },
  "language_info": {
   "codemirror_mode": {
    "name": "ipython",
    "version": 3
   },
   "file_extension": ".py",
   "mimetype": "text/x-python",
   "name": "python",
   "nbconvert_exporter": "python",
   "pygments_lexer": "ipython3",
   "version": "3.11.5"
  }
 },
 "nbformat": 4,
 "nbformat_minor": 5
}
