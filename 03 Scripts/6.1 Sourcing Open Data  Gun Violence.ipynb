{
 "cells": [
  {
   "cell_type": "markdown",
   "id": "f9785046",
   "metadata": {},
   "source": [
    "#   Sourcing Open Data - Task 6.1:  Gun Violence in US"
   ]
  },
  {
   "cell_type": "markdown",
   "id": "421b6bfa",
   "metadata": {},
   "source": [
    "1. [Import Librairies](#lib)"
   ]
  },
  {
   "cell_type": "markdown",
   "id": "bb8342c1",
   "metadata": {},
   "source": [
    "2. [Checking the Dataframe](#check)"
   ]
  },
  {
   "cell_type": "markdown",
   "id": "47966238",
   "metadata": {},
   "source": [
    "3. [Dataframe Statistics and Cleaning](#clean)"
   ]
  },
  {
   "cell_type": "markdown",
   "id": "83961719",
   "metadata": {},
   "source": [
    "4. [Exporting and Saving Data](#save)"
   ]
  },
  {
   "cell_type": "markdown",
   "id": "a6a0cf62",
   "metadata": {},
   "source": [
    "<div id = \"lib\"></div>"
   ]
  },
  {
   "cell_type": "code",
   "execution_count": 3,
   "id": "fb090658",
   "metadata": {},
   "outputs": [],
   "source": [
    "# Import Libraries\n",
    "import pandas as pd\n",
    "import numpy as np\n",
    "import os\n"
   ]
  },
  {
   "cell_type": "code",
   "execution_count": 4,
   "id": "aad4e290",
   "metadata": {},
   "outputs": [],
   "source": [
    "# Creating a path\n",
    "path = r'C:\\Users\\rpa21\\Gun Violence Analysis'"
   ]
  },
  {
   "cell_type": "code",
   "execution_count": 5,
   "id": "c57d0848",
   "metadata": {},
   "outputs": [],
   "source": [
    "# Importing Data from gun violence.csv using path\n",
    "df_gun_vi = pd.read_csv(os.path.join(path, '02 Data', 'Original Data', 'gun-violence-data_01-2013_03-2018.csv'), index_col = False)"
   ]
  },
  {
   "cell_type": "markdown",
   "id": "979b5a13",
   "metadata": {},
   "source": [
    "<div id = \"check\"></div>"
   ]
  },
  {
   "cell_type": "markdown",
   "id": "1cb6e875",
   "metadata": {},
   "source": [
    "Checking the Dataframe"
   ]
  },
  {
   "cell_type": "code",
   "execution_count": 9,
   "id": "6722cfcf",
   "metadata": {},
   "outputs": [
    {
     "data": {
      "text/html": [
       "<div>\n",
       "<style scoped>\n",
       "    .dataframe tbody tr th:only-of-type {\n",
       "        vertical-align: middle;\n",
       "    }\n",
       "\n",
       "    .dataframe tbody tr th {\n",
       "        vertical-align: top;\n",
       "    }\n",
       "\n",
       "    .dataframe thead th {\n",
       "        text-align: right;\n",
       "    }\n",
       "</style>\n",
       "<table border=\"1\" class=\"dataframe\">\n",
       "  <thead>\n",
       "    <tr style=\"text-align: right;\">\n",
       "      <th></th>\n",
       "      <th>incident_id</th>\n",
       "      <th>date</th>\n",
       "      <th>state</th>\n",
       "      <th>city_or_county</th>\n",
       "      <th>address</th>\n",
       "      <th>n_killed</th>\n",
       "      <th>n_injured</th>\n",
       "      <th>incident_url</th>\n",
       "      <th>source_url</th>\n",
       "      <th>incident_url_fields_missing</th>\n",
       "      <th>...</th>\n",
       "      <th>participant_age</th>\n",
       "      <th>participant_age_group</th>\n",
       "      <th>participant_gender</th>\n",
       "      <th>participant_name</th>\n",
       "      <th>participant_relationship</th>\n",
       "      <th>participant_status</th>\n",
       "      <th>participant_type</th>\n",
       "      <th>sources</th>\n",
       "      <th>state_house_district</th>\n",
       "      <th>state_senate_district</th>\n",
       "    </tr>\n",
       "  </thead>\n",
       "  <tbody>\n",
       "    <tr>\n",
       "      <th>0</th>\n",
       "      <td>461105</td>\n",
       "      <td>2013-01-01</td>\n",
       "      <td>Pennsylvania</td>\n",
       "      <td>Mckeesport</td>\n",
       "      <td>1506 Versailles Avenue and Coursin Street</td>\n",
       "      <td>0</td>\n",
       "      <td>4</td>\n",
       "      <td>http://www.gunviolencearchive.org/incident/461105</td>\n",
       "      <td>http://www.post-gazette.com/local/south/2013/0...</td>\n",
       "      <td>False</td>\n",
       "      <td>...</td>\n",
       "      <td>0::20</td>\n",
       "      <td>0::Adult 18+||1::Adult 18+||2::Adult 18+||3::A...</td>\n",
       "      <td>0::Male||1::Male||3::Male||4::Female</td>\n",
       "      <td>0::Julian Sims</td>\n",
       "      <td>NaN</td>\n",
       "      <td>0::Arrested||1::Injured||2::Injured||3::Injure...</td>\n",
       "      <td>0::Victim||1::Victim||2::Victim||3::Victim||4:...</td>\n",
       "      <td>http://pittsburgh.cbslocal.com/2013/01/01/4-pe...</td>\n",
       "      <td>NaN</td>\n",
       "      <td>NaN</td>\n",
       "    </tr>\n",
       "    <tr>\n",
       "      <th>1</th>\n",
       "      <td>460726</td>\n",
       "      <td>2013-01-01</td>\n",
       "      <td>California</td>\n",
       "      <td>Hawthorne</td>\n",
       "      <td>13500 block of Cerise Avenue</td>\n",
       "      <td>1</td>\n",
       "      <td>3</td>\n",
       "      <td>http://www.gunviolencearchive.org/incident/460726</td>\n",
       "      <td>http://www.dailybulletin.com/article/zz/201301...</td>\n",
       "      <td>False</td>\n",
       "      <td>...</td>\n",
       "      <td>0::20</td>\n",
       "      <td>0::Adult 18+||1::Adult 18+||2::Adult 18+||3::A...</td>\n",
       "      <td>0::Male</td>\n",
       "      <td>0::Bernard Gillis</td>\n",
       "      <td>NaN</td>\n",
       "      <td>0::Killed||1::Injured||2::Injured||3::Injured</td>\n",
       "      <td>0::Victim||1::Victim||2::Victim||3::Victim||4:...</td>\n",
       "      <td>http://losangeles.cbslocal.com/2013/01/01/man-...</td>\n",
       "      <td>62.0</td>\n",
       "      <td>35.0</td>\n",
       "    </tr>\n",
       "    <tr>\n",
       "      <th>2</th>\n",
       "      <td>478855</td>\n",
       "      <td>2013-01-01</td>\n",
       "      <td>Ohio</td>\n",
       "      <td>Lorain</td>\n",
       "      <td>1776 East 28th Street</td>\n",
       "      <td>1</td>\n",
       "      <td>3</td>\n",
       "      <td>http://www.gunviolencearchive.org/incident/478855</td>\n",
       "      <td>http://chronicle.northcoastnow.com/2013/02/14/...</td>\n",
       "      <td>False</td>\n",
       "      <td>...</td>\n",
       "      <td>0::25||1::31||2::33||3::34||4::33</td>\n",
       "      <td>0::Adult 18+||1::Adult 18+||2::Adult 18+||3::A...</td>\n",
       "      <td>0::Male||1::Male||2::Male||3::Male||4::Male</td>\n",
       "      <td>0::Damien Bell||1::Desmen Noble||2::Herman Sea...</td>\n",
       "      <td>NaN</td>\n",
       "      <td>0::Injured, Unharmed, Arrested||1::Unharmed, A...</td>\n",
       "      <td>0::Subject-Suspect||1::Subject-Suspect||2::Vic...</td>\n",
       "      <td>http://www.morningjournal.com/general-news/201...</td>\n",
       "      <td>56.0</td>\n",
       "      <td>13.0</td>\n",
       "    </tr>\n",
       "    <tr>\n",
       "      <th>3</th>\n",
       "      <td>478925</td>\n",
       "      <td>2013-01-05</td>\n",
       "      <td>Colorado</td>\n",
       "      <td>Aurora</td>\n",
       "      <td>16000 block of East Ithaca Place</td>\n",
       "      <td>4</td>\n",
       "      <td>0</td>\n",
       "      <td>http://www.gunviolencearchive.org/incident/478925</td>\n",
       "      <td>http://www.dailydemocrat.com/20130106/aurora-s...</td>\n",
       "      <td>False</td>\n",
       "      <td>...</td>\n",
       "      <td>0::29||1::33||2::56||3::33</td>\n",
       "      <td>0::Adult 18+||1::Adult 18+||2::Adult 18+||3::A...</td>\n",
       "      <td>0::Female||1::Male||2::Male||3::Male</td>\n",
       "      <td>0::Stacie Philbrook||1::Christopher Ratliffe||...</td>\n",
       "      <td>NaN</td>\n",
       "      <td>0::Killed||1::Killed||2::Killed||3::Killed</td>\n",
       "      <td>0::Victim||1::Victim||2::Victim||3::Subject-Su...</td>\n",
       "      <td>http://denver.cbslocal.com/2013/01/06/officer-...</td>\n",
       "      <td>40.0</td>\n",
       "      <td>28.0</td>\n",
       "    </tr>\n",
       "    <tr>\n",
       "      <th>4</th>\n",
       "      <td>478959</td>\n",
       "      <td>2013-01-07</td>\n",
       "      <td>North Carolina</td>\n",
       "      <td>Greensboro</td>\n",
       "      <td>307 Mourning Dove Terrace</td>\n",
       "      <td>2</td>\n",
       "      <td>2</td>\n",
       "      <td>http://www.gunviolencearchive.org/incident/478959</td>\n",
       "      <td>http://www.journalnow.com/news/local/article_d...</td>\n",
       "      <td>False</td>\n",
       "      <td>...</td>\n",
       "      <td>0::18||1::46||2::14||3::47</td>\n",
       "      <td>0::Adult 18+||1::Adult 18+||2::Teen 12-17||3::...</td>\n",
       "      <td>0::Female||1::Male||2::Male||3::Female</td>\n",
       "      <td>0::Danielle Imani Jameison||1::Maurice Eugene ...</td>\n",
       "      <td>3::Family</td>\n",
       "      <td>0::Injured||1::Injured||2::Killed||3::Killed</td>\n",
       "      <td>0::Victim||1::Victim||2::Victim||3::Subject-Su...</td>\n",
       "      <td>http://myfox8.com/2013/01/08/update-mother-sho...</td>\n",
       "      <td>62.0</td>\n",
       "      <td>27.0</td>\n",
       "    </tr>\n",
       "  </tbody>\n",
       "</table>\n",
       "<p>5 rows × 29 columns</p>\n",
       "</div>"
      ],
      "text/plain": [
       "   incident_id        date           state city_or_county  \\\n",
       "0       461105  2013-01-01    Pennsylvania     Mckeesport   \n",
       "1       460726  2013-01-01      California      Hawthorne   \n",
       "2       478855  2013-01-01            Ohio         Lorain   \n",
       "3       478925  2013-01-05        Colorado         Aurora   \n",
       "4       478959  2013-01-07  North Carolina     Greensboro   \n",
       "\n",
       "                                     address  n_killed  n_injured  \\\n",
       "0  1506 Versailles Avenue and Coursin Street         0          4   \n",
       "1               13500 block of Cerise Avenue         1          3   \n",
       "2                      1776 East 28th Street         1          3   \n",
       "3           16000 block of East Ithaca Place         4          0   \n",
       "4                  307 Mourning Dove Terrace         2          2   \n",
       "\n",
       "                                        incident_url  \\\n",
       "0  http://www.gunviolencearchive.org/incident/461105   \n",
       "1  http://www.gunviolencearchive.org/incident/460726   \n",
       "2  http://www.gunviolencearchive.org/incident/478855   \n",
       "3  http://www.gunviolencearchive.org/incident/478925   \n",
       "4  http://www.gunviolencearchive.org/incident/478959   \n",
       "\n",
       "                                          source_url  \\\n",
       "0  http://www.post-gazette.com/local/south/2013/0...   \n",
       "1  http://www.dailybulletin.com/article/zz/201301...   \n",
       "2  http://chronicle.northcoastnow.com/2013/02/14/...   \n",
       "3  http://www.dailydemocrat.com/20130106/aurora-s...   \n",
       "4  http://www.journalnow.com/news/local/article_d...   \n",
       "\n",
       "   incident_url_fields_missing  ...                    participant_age  \\\n",
       "0                        False  ...                              0::20   \n",
       "1                        False  ...                              0::20   \n",
       "2                        False  ...  0::25||1::31||2::33||3::34||4::33   \n",
       "3                        False  ...         0::29||1::33||2::56||3::33   \n",
       "4                        False  ...         0::18||1::46||2::14||3::47   \n",
       "\n",
       "                               participant_age_group  \\\n",
       "0  0::Adult 18+||1::Adult 18+||2::Adult 18+||3::A...   \n",
       "1  0::Adult 18+||1::Adult 18+||2::Adult 18+||3::A...   \n",
       "2  0::Adult 18+||1::Adult 18+||2::Adult 18+||3::A...   \n",
       "3  0::Adult 18+||1::Adult 18+||2::Adult 18+||3::A...   \n",
       "4  0::Adult 18+||1::Adult 18+||2::Teen 12-17||3::...   \n",
       "\n",
       "                            participant_gender  \\\n",
       "0         0::Male||1::Male||3::Male||4::Female   \n",
       "1                                      0::Male   \n",
       "2  0::Male||1::Male||2::Male||3::Male||4::Male   \n",
       "3         0::Female||1::Male||2::Male||3::Male   \n",
       "4       0::Female||1::Male||2::Male||3::Female   \n",
       "\n",
       "                                    participant_name  \\\n",
       "0                                     0::Julian Sims   \n",
       "1                                  0::Bernard Gillis   \n",
       "2  0::Damien Bell||1::Desmen Noble||2::Herman Sea...   \n",
       "3  0::Stacie Philbrook||1::Christopher Ratliffe||...   \n",
       "4  0::Danielle Imani Jameison||1::Maurice Eugene ...   \n",
       "\n",
       "   participant_relationship  \\\n",
       "0                       NaN   \n",
       "1                       NaN   \n",
       "2                       NaN   \n",
       "3                       NaN   \n",
       "4                 3::Family   \n",
       "\n",
       "                                  participant_status  \\\n",
       "0  0::Arrested||1::Injured||2::Injured||3::Injure...   \n",
       "1      0::Killed||1::Injured||2::Injured||3::Injured   \n",
       "2  0::Injured, Unharmed, Arrested||1::Unharmed, A...   \n",
       "3         0::Killed||1::Killed||2::Killed||3::Killed   \n",
       "4       0::Injured||1::Injured||2::Killed||3::Killed   \n",
       "\n",
       "                                    participant_type  \\\n",
       "0  0::Victim||1::Victim||2::Victim||3::Victim||4:...   \n",
       "1  0::Victim||1::Victim||2::Victim||3::Victim||4:...   \n",
       "2  0::Subject-Suspect||1::Subject-Suspect||2::Vic...   \n",
       "3  0::Victim||1::Victim||2::Victim||3::Subject-Su...   \n",
       "4  0::Victim||1::Victim||2::Victim||3::Subject-Su...   \n",
       "\n",
       "                                             sources state_house_district  \\\n",
       "0  http://pittsburgh.cbslocal.com/2013/01/01/4-pe...                  NaN   \n",
       "1  http://losangeles.cbslocal.com/2013/01/01/man-...                 62.0   \n",
       "2  http://www.morningjournal.com/general-news/201...                 56.0   \n",
       "3  http://denver.cbslocal.com/2013/01/06/officer-...                 40.0   \n",
       "4  http://myfox8.com/2013/01/08/update-mother-sho...                 62.0   \n",
       "\n",
       "  state_senate_district  \n",
       "0                   NaN  \n",
       "1                  35.0  \n",
       "2                  13.0  \n",
       "3                  28.0  \n",
       "4                  27.0  \n",
       "\n",
       "[5 rows x 29 columns]"
      ]
     },
     "execution_count": 9,
     "metadata": {},
     "output_type": "execute_result"
    }
   ],
   "source": [
    "df_gun_vi.head()"
   ]
  },
  {
   "cell_type": "code",
   "execution_count": 11,
   "id": "1ca97042",
   "metadata": {},
   "outputs": [
    {
     "data": {
      "text/plain": [
       "(239677, 29)"
      ]
     },
     "execution_count": 11,
     "metadata": {},
     "output_type": "execute_result"
    }
   ],
   "source": [
    "# checking the shape of the dataframe"
   ]
  },
  {
   "cell_type": "code",
   "execution_count": 12,
   "id": "02e0da01",
   "metadata": {},
   "outputs": [
    {
     "name": "stdout",
     "output_type": "stream",
     "text": [
      "<class 'pandas.core.frame.DataFrame'>\n",
      "RangeIndex: 239677 entries, 0 to 239676\n",
      "Data columns (total 29 columns):\n",
      " #   Column                       Non-Null Count   Dtype  \n",
      "---  ------                       --------------   -----  \n",
      " 0   incident_id                  239677 non-null  int64  \n",
      " 1   date                         239677 non-null  object \n",
      " 2   state                        239677 non-null  object \n",
      " 3   city_or_county               239677 non-null  object \n",
      " 4   address                      223180 non-null  object \n",
      " 5   n_killed                     239677 non-null  int64  \n",
      " 6   n_injured                    239677 non-null  int64  \n",
      " 7   incident_url                 239677 non-null  object \n",
      " 8   source_url                   239209 non-null  object \n",
      " 9   incident_url_fields_missing  239677 non-null  bool   \n",
      " 10  congressional_district       227733 non-null  float64\n",
      " 11  gun_stolen                   140179 non-null  object \n",
      " 12  gun_type                     140226 non-null  object \n",
      " 13  incident_characteristics     239351 non-null  object \n",
      " 14  latitude                     231754 non-null  float64\n",
      " 15  location_description         42089 non-null   object \n",
      " 16  longitude                    231754 non-null  float64\n",
      " 17  n_guns_involved              140226 non-null  float64\n",
      " 18  notes                        158660 non-null  object \n",
      " 19  participant_age              147379 non-null  object \n",
      " 20  participant_age_group        197558 non-null  object \n",
      " 21  participant_gender           203315 non-null  object \n",
      " 22  participant_name             117424 non-null  object \n",
      " 23  participant_relationship     15774 non-null   object \n",
      " 24  participant_status           212051 non-null  object \n",
      " 25  participant_type             214814 non-null  object \n",
      " 26  sources                      239068 non-null  object \n",
      " 27  state_house_district         200905 non-null  float64\n",
      " 28  state_senate_district        207342 non-null  float64\n",
      "dtypes: bool(1), float64(6), int64(3), object(19)\n",
      "memory usage: 51.4+ MB\n"
     ]
    }
   ],
   "source": [
    "#checking the columns and data types of the dataframe\n",
    "df_gun_vi.info()"
   ]
  },
  {
   "cell_type": "markdown",
   "id": "4ec6cb84",
   "metadata": {},
   "source": [
    "<div id = \"clean\"></div>"
   ]
  },
  {
   "cell_type": "markdown",
   "id": "4ebbec50",
   "metadata": {},
   "source": [
    "Dataframe Statistics and Cleaning"
   ]
  },
  {
   "cell_type": "code",
   "execution_count": 13,
   "id": "d1e9a325",
   "metadata": {},
   "outputs": [
    {
     "data": {
      "text/html": [
       "<div>\n",
       "<style scoped>\n",
       "    .dataframe tbody tr th:only-of-type {\n",
       "        vertical-align: middle;\n",
       "    }\n",
       "\n",
       "    .dataframe tbody tr th {\n",
       "        vertical-align: top;\n",
       "    }\n",
       "\n",
       "    .dataframe thead th {\n",
       "        text-align: right;\n",
       "    }\n",
       "</style>\n",
       "<table border=\"1\" class=\"dataframe\">\n",
       "  <thead>\n",
       "    <tr style=\"text-align: right;\">\n",
       "      <th></th>\n",
       "      <th>incident_id</th>\n",
       "      <th>n_killed</th>\n",
       "      <th>n_injured</th>\n",
       "      <th>congressional_district</th>\n",
       "      <th>latitude</th>\n",
       "      <th>longitude</th>\n",
       "      <th>n_guns_involved</th>\n",
       "      <th>state_house_district</th>\n",
       "      <th>state_senate_district</th>\n",
       "    </tr>\n",
       "  </thead>\n",
       "  <tbody>\n",
       "    <tr>\n",
       "      <th>count</th>\n",
       "      <td>2.396770e+05</td>\n",
       "      <td>239677.000000</td>\n",
       "      <td>239677.000000</td>\n",
       "      <td>227733.000000</td>\n",
       "      <td>231754.000000</td>\n",
       "      <td>231754.000000</td>\n",
       "      <td>140226.000000</td>\n",
       "      <td>200905.000000</td>\n",
       "      <td>207342.00000</td>\n",
       "    </tr>\n",
       "    <tr>\n",
       "      <th>mean</th>\n",
       "      <td>5.593343e+05</td>\n",
       "      <td>0.252290</td>\n",
       "      <td>0.494007</td>\n",
       "      <td>8.001265</td>\n",
       "      <td>37.546598</td>\n",
       "      <td>-89.338348</td>\n",
       "      <td>1.372442</td>\n",
       "      <td>55.447132</td>\n",
       "      <td>20.47711</td>\n",
       "    </tr>\n",
       "    <tr>\n",
       "      <th>std</th>\n",
       "      <td>2.931287e+05</td>\n",
       "      <td>0.521779</td>\n",
       "      <td>0.729952</td>\n",
       "      <td>8.480835</td>\n",
       "      <td>5.130763</td>\n",
       "      <td>14.359546</td>\n",
       "      <td>4.678202</td>\n",
       "      <td>42.048117</td>\n",
       "      <td>14.20456</td>\n",
       "    </tr>\n",
       "    <tr>\n",
       "      <th>min</th>\n",
       "      <td>9.211400e+04</td>\n",
       "      <td>0.000000</td>\n",
       "      <td>0.000000</td>\n",
       "      <td>0.000000</td>\n",
       "      <td>19.111400</td>\n",
       "      <td>-171.429000</td>\n",
       "      <td>1.000000</td>\n",
       "      <td>1.000000</td>\n",
       "      <td>1.00000</td>\n",
       "    </tr>\n",
       "    <tr>\n",
       "      <th>25%</th>\n",
       "      <td>3.085450e+05</td>\n",
       "      <td>0.000000</td>\n",
       "      <td>0.000000</td>\n",
       "      <td>2.000000</td>\n",
       "      <td>33.903400</td>\n",
       "      <td>-94.158725</td>\n",
       "      <td>1.000000</td>\n",
       "      <td>21.000000</td>\n",
       "      <td>9.00000</td>\n",
       "    </tr>\n",
       "    <tr>\n",
       "      <th>50%</th>\n",
       "      <td>5.435870e+05</td>\n",
       "      <td>0.000000</td>\n",
       "      <td>0.000000</td>\n",
       "      <td>5.000000</td>\n",
       "      <td>38.570600</td>\n",
       "      <td>-86.249600</td>\n",
       "      <td>1.000000</td>\n",
       "      <td>47.000000</td>\n",
       "      <td>19.00000</td>\n",
       "    </tr>\n",
       "    <tr>\n",
       "      <th>75%</th>\n",
       "      <td>8.172280e+05</td>\n",
       "      <td>0.000000</td>\n",
       "      <td>1.000000</td>\n",
       "      <td>10.000000</td>\n",
       "      <td>41.437375</td>\n",
       "      <td>-80.048625</td>\n",
       "      <td>1.000000</td>\n",
       "      <td>84.000000</td>\n",
       "      <td>30.00000</td>\n",
       "    </tr>\n",
       "    <tr>\n",
       "      <th>max</th>\n",
       "      <td>1.083472e+06</td>\n",
       "      <td>50.000000</td>\n",
       "      <td>53.000000</td>\n",
       "      <td>53.000000</td>\n",
       "      <td>71.336800</td>\n",
       "      <td>97.433100</td>\n",
       "      <td>400.000000</td>\n",
       "      <td>901.000000</td>\n",
       "      <td>94.00000</td>\n",
       "    </tr>\n",
       "  </tbody>\n",
       "</table>\n",
       "</div>"
      ],
      "text/plain": [
       "        incident_id       n_killed      n_injured  congressional_district  \\\n",
       "count  2.396770e+05  239677.000000  239677.000000           227733.000000   \n",
       "mean   5.593343e+05       0.252290       0.494007                8.001265   \n",
       "std    2.931287e+05       0.521779       0.729952                8.480835   \n",
       "min    9.211400e+04       0.000000       0.000000                0.000000   \n",
       "25%    3.085450e+05       0.000000       0.000000                2.000000   \n",
       "50%    5.435870e+05       0.000000       0.000000                5.000000   \n",
       "75%    8.172280e+05       0.000000       1.000000               10.000000   \n",
       "max    1.083472e+06      50.000000      53.000000               53.000000   \n",
       "\n",
       "            latitude      longitude  n_guns_involved  state_house_district  \\\n",
       "count  231754.000000  231754.000000    140226.000000         200905.000000   \n",
       "mean       37.546598     -89.338348         1.372442             55.447132   \n",
       "std         5.130763      14.359546         4.678202             42.048117   \n",
       "min        19.111400    -171.429000         1.000000              1.000000   \n",
       "25%        33.903400     -94.158725         1.000000             21.000000   \n",
       "50%        38.570600     -86.249600         1.000000             47.000000   \n",
       "75%        41.437375     -80.048625         1.000000             84.000000   \n",
       "max        71.336800      97.433100       400.000000            901.000000   \n",
       "\n",
       "       state_senate_district  \n",
       "count           207342.00000  \n",
       "mean                20.47711  \n",
       "std                 14.20456  \n",
       "min                  1.00000  \n",
       "25%                  9.00000  \n",
       "50%                 19.00000  \n",
       "75%                 30.00000  \n",
       "max                 94.00000  "
      ]
     },
     "execution_count": 13,
     "metadata": {},
     "output_type": "execute_result"
    }
   ],
   "source": [
    "# Descriptive Statistics\n",
    "df_gun_vi.describe()"
   ]
  },
  {
   "cell_type": "code",
   "execution_count": 14,
   "id": "34e2110a",
   "metadata": {},
   "outputs": [],
   "source": [
    "# Check for duplicates in the dataframe\n",
    "df_dups = df_gun_vi[df_gun_vi.duplicated()]"
   ]
  },
  {
   "cell_type": "code",
   "execution_count": 15,
   "id": "94a91d63",
   "metadata": {},
   "outputs": [
    {
     "data": {
      "text/html": [
       "<div>\n",
       "<style scoped>\n",
       "    .dataframe tbody tr th:only-of-type {\n",
       "        vertical-align: middle;\n",
       "    }\n",
       "\n",
       "    .dataframe tbody tr th {\n",
       "        vertical-align: top;\n",
       "    }\n",
       "\n",
       "    .dataframe thead th {\n",
       "        text-align: right;\n",
       "    }\n",
       "</style>\n",
       "<table border=\"1\" class=\"dataframe\">\n",
       "  <thead>\n",
       "    <tr style=\"text-align: right;\">\n",
       "      <th></th>\n",
       "      <th>incident_id</th>\n",
       "      <th>date</th>\n",
       "      <th>state</th>\n",
       "      <th>city_or_county</th>\n",
       "      <th>address</th>\n",
       "      <th>n_killed</th>\n",
       "      <th>n_injured</th>\n",
       "      <th>incident_url</th>\n",
       "      <th>source_url</th>\n",
       "      <th>incident_url_fields_missing</th>\n",
       "      <th>...</th>\n",
       "      <th>participant_age</th>\n",
       "      <th>participant_age_group</th>\n",
       "      <th>participant_gender</th>\n",
       "      <th>participant_name</th>\n",
       "      <th>participant_relationship</th>\n",
       "      <th>participant_status</th>\n",
       "      <th>participant_type</th>\n",
       "      <th>sources</th>\n",
       "      <th>state_house_district</th>\n",
       "      <th>state_senate_district</th>\n",
       "    </tr>\n",
       "  </thead>\n",
       "  <tbody>\n",
       "  </tbody>\n",
       "</table>\n",
       "<p>0 rows × 29 columns</p>\n",
       "</div>"
      ],
      "text/plain": [
       "Empty DataFrame\n",
       "Columns: [incident_id, date, state, city_or_county, address, n_killed, n_injured, incident_url, source_url, incident_url_fields_missing, congressional_district, gun_stolen, gun_type, incident_characteristics, latitude, location_description, longitude, n_guns_involved, notes, participant_age, participant_age_group, participant_gender, participant_name, participant_relationship, participant_status, participant_type, sources, state_house_district, state_senate_district]\n",
       "Index: []\n",
       "\n",
       "[0 rows x 29 columns]"
      ]
     },
     "execution_count": 15,
     "metadata": {},
     "output_type": "execute_result"
    }
   ],
   "source": [
    "df_dups"
   ]
  },
  {
   "cell_type": "markdown",
   "id": "ba499c32",
   "metadata": {},
   "source": [
    "There are no duplicates in the dataframe. "
   ]
  },
  {
   "cell_type": "code",
   "execution_count": 16,
   "id": "ee7b8a2a",
   "metadata": {},
   "outputs": [
    {
     "name": "stderr",
     "output_type": "stream",
     "text": [
      "C:\\Users\\rpa21\\AppData\\Local\\Temp\\ipykernel_14012\\4283232524.py:3: FutureWarning: DataFrame.applymap has been deprecated. Use DataFrame.map instead.\n",
      "  weird = (df_gun_vi[[col]].applymap(type) != df_gun_vi[[col]].iloc[0].apply(type)).any(axis = 1)\n",
      "C:\\Users\\rpa21\\AppData\\Local\\Temp\\ipykernel_14012\\4283232524.py:3: FutureWarning: DataFrame.applymap has been deprecated. Use DataFrame.map instead.\n",
      "  weird = (df_gun_vi[[col]].applymap(type) != df_gun_vi[[col]].iloc[0].apply(type)).any(axis = 1)\n",
      "C:\\Users\\rpa21\\AppData\\Local\\Temp\\ipykernel_14012\\4283232524.py:3: FutureWarning: DataFrame.applymap has been deprecated. Use DataFrame.map instead.\n",
      "  weird = (df_gun_vi[[col]].applymap(type) != df_gun_vi[[col]].iloc[0].apply(type)).any(axis = 1)\n",
      "C:\\Users\\rpa21\\AppData\\Local\\Temp\\ipykernel_14012\\4283232524.py:3: FutureWarning: DataFrame.applymap has been deprecated. Use DataFrame.map instead.\n",
      "  weird = (df_gun_vi[[col]].applymap(type) != df_gun_vi[[col]].iloc[0].apply(type)).any(axis = 1)\n",
      "C:\\Users\\rpa21\\AppData\\Local\\Temp\\ipykernel_14012\\4283232524.py:3: FutureWarning: DataFrame.applymap has been deprecated. Use DataFrame.map instead.\n",
      "  weird = (df_gun_vi[[col]].applymap(type) != df_gun_vi[[col]].iloc[0].apply(type)).any(axis = 1)\n",
      "C:\\Users\\rpa21\\AppData\\Local\\Temp\\ipykernel_14012\\4283232524.py:3: FutureWarning: DataFrame.applymap has been deprecated. Use DataFrame.map instead.\n",
      "  weird = (df_gun_vi[[col]].applymap(type) != df_gun_vi[[col]].iloc[0].apply(type)).any(axis = 1)\n",
      "C:\\Users\\rpa21\\AppData\\Local\\Temp\\ipykernel_14012\\4283232524.py:3: FutureWarning: DataFrame.applymap has been deprecated. Use DataFrame.map instead.\n",
      "  weird = (df_gun_vi[[col]].applymap(type) != df_gun_vi[[col]].iloc[0].apply(type)).any(axis = 1)\n",
      "C:\\Users\\rpa21\\AppData\\Local\\Temp\\ipykernel_14012\\4283232524.py:3: FutureWarning: DataFrame.applymap has been deprecated. Use DataFrame.map instead.\n",
      "  weird = (df_gun_vi[[col]].applymap(type) != df_gun_vi[[col]].iloc[0].apply(type)).any(axis = 1)\n"
     ]
    },
    {
     "name": "stdout",
     "output_type": "stream",
     "text": [
      "address\n",
      "source_url\n",
      "gun_stolen\n"
     ]
    },
    {
     "name": "stderr",
     "output_type": "stream",
     "text": [
      "C:\\Users\\rpa21\\AppData\\Local\\Temp\\ipykernel_14012\\4283232524.py:3: FutureWarning: DataFrame.applymap has been deprecated. Use DataFrame.map instead.\n",
      "  weird = (df_gun_vi[[col]].applymap(type) != df_gun_vi[[col]].iloc[0].apply(type)).any(axis = 1)\n",
      "C:\\Users\\rpa21\\AppData\\Local\\Temp\\ipykernel_14012\\4283232524.py:3: FutureWarning: DataFrame.applymap has been deprecated. Use DataFrame.map instead.\n",
      "  weird = (df_gun_vi[[col]].applymap(type) != df_gun_vi[[col]].iloc[0].apply(type)).any(axis = 1)\n",
      "C:\\Users\\rpa21\\AppData\\Local\\Temp\\ipykernel_14012\\4283232524.py:3: FutureWarning: DataFrame.applymap has been deprecated. Use DataFrame.map instead.\n",
      "  weird = (df_gun_vi[[col]].applymap(type) != df_gun_vi[[col]].iloc[0].apply(type)).any(axis = 1)\n",
      "C:\\Users\\rpa21\\AppData\\Local\\Temp\\ipykernel_14012\\4283232524.py:3: FutureWarning: DataFrame.applymap has been deprecated. Use DataFrame.map instead.\n",
      "  weird = (df_gun_vi[[col]].applymap(type) != df_gun_vi[[col]].iloc[0].apply(type)).any(axis = 1)\n",
      "C:\\Users\\rpa21\\AppData\\Local\\Temp\\ipykernel_14012\\4283232524.py:3: FutureWarning: DataFrame.applymap has been deprecated. Use DataFrame.map instead.\n",
      "  weird = (df_gun_vi[[col]].applymap(type) != df_gun_vi[[col]].iloc[0].apply(type)).any(axis = 1)\n",
      "C:\\Users\\rpa21\\AppData\\Local\\Temp\\ipykernel_14012\\4283232524.py:3: FutureWarning: DataFrame.applymap has been deprecated. Use DataFrame.map instead.\n",
      "  weird = (df_gun_vi[[col]].applymap(type) != df_gun_vi[[col]].iloc[0].apply(type)).any(axis = 1)\n"
     ]
    },
    {
     "name": "stdout",
     "output_type": "stream",
     "text": [
      "gun_type\n",
      "incident_characteristics\n",
      "location_description\n",
      "notes\n"
     ]
    },
    {
     "name": "stderr",
     "output_type": "stream",
     "text": [
      "C:\\Users\\rpa21\\AppData\\Local\\Temp\\ipykernel_14012\\4283232524.py:3: FutureWarning: DataFrame.applymap has been deprecated. Use DataFrame.map instead.\n",
      "  weird = (df_gun_vi[[col]].applymap(type) != df_gun_vi[[col]].iloc[0].apply(type)).any(axis = 1)\n",
      "C:\\Users\\rpa21\\AppData\\Local\\Temp\\ipykernel_14012\\4283232524.py:3: FutureWarning: DataFrame.applymap has been deprecated. Use DataFrame.map instead.\n",
      "  weird = (df_gun_vi[[col]].applymap(type) != df_gun_vi[[col]].iloc[0].apply(type)).any(axis = 1)\n",
      "C:\\Users\\rpa21\\AppData\\Local\\Temp\\ipykernel_14012\\4283232524.py:3: FutureWarning: DataFrame.applymap has been deprecated. Use DataFrame.map instead.\n",
      "  weird = (df_gun_vi[[col]].applymap(type) != df_gun_vi[[col]].iloc[0].apply(type)).any(axis = 1)\n",
      "C:\\Users\\rpa21\\AppData\\Local\\Temp\\ipykernel_14012\\4283232524.py:3: FutureWarning: DataFrame.applymap has been deprecated. Use DataFrame.map instead.\n",
      "  weird = (df_gun_vi[[col]].applymap(type) != df_gun_vi[[col]].iloc[0].apply(type)).any(axis = 1)\n",
      "C:\\Users\\rpa21\\AppData\\Local\\Temp\\ipykernel_14012\\4283232524.py:3: FutureWarning: DataFrame.applymap has been deprecated. Use DataFrame.map instead.\n",
      "  weird = (df_gun_vi[[col]].applymap(type) != df_gun_vi[[col]].iloc[0].apply(type)).any(axis = 1)\n",
      "C:\\Users\\rpa21\\AppData\\Local\\Temp\\ipykernel_14012\\4283232524.py:3: FutureWarning: DataFrame.applymap has been deprecated. Use DataFrame.map instead.\n",
      "  weird = (df_gun_vi[[col]].applymap(type) != df_gun_vi[[col]].iloc[0].apply(type)).any(axis = 1)\n"
     ]
    },
    {
     "name": "stdout",
     "output_type": "stream",
     "text": [
      "participant_age\n",
      "participant_age_group\n",
      "participant_gender\n",
      "participant_name\n",
      "participant_relationship\n",
      "participant_status\n"
     ]
    },
    {
     "name": "stderr",
     "output_type": "stream",
     "text": [
      "C:\\Users\\rpa21\\AppData\\Local\\Temp\\ipykernel_14012\\4283232524.py:3: FutureWarning: DataFrame.applymap has been deprecated. Use DataFrame.map instead.\n",
      "  weird = (df_gun_vi[[col]].applymap(type) != df_gun_vi[[col]].iloc[0].apply(type)).any(axis = 1)\n",
      "C:\\Users\\rpa21\\AppData\\Local\\Temp\\ipykernel_14012\\4283232524.py:3: FutureWarning: DataFrame.applymap has been deprecated. Use DataFrame.map instead.\n",
      "  weird = (df_gun_vi[[col]].applymap(type) != df_gun_vi[[col]].iloc[0].apply(type)).any(axis = 1)\n",
      "C:\\Users\\rpa21\\AppData\\Local\\Temp\\ipykernel_14012\\4283232524.py:3: FutureWarning: DataFrame.applymap has been deprecated. Use DataFrame.map instead.\n",
      "  weird = (df_gun_vi[[col]].applymap(type) != df_gun_vi[[col]].iloc[0].apply(type)).any(axis = 1)\n",
      "C:\\Users\\rpa21\\AppData\\Local\\Temp\\ipykernel_14012\\4283232524.py:3: FutureWarning: DataFrame.applymap has been deprecated. Use DataFrame.map instead.\n",
      "  weird = (df_gun_vi[[col]].applymap(type) != df_gun_vi[[col]].iloc[0].apply(type)).any(axis = 1)\n",
      "C:\\Users\\rpa21\\AppData\\Local\\Temp\\ipykernel_14012\\4283232524.py:3: FutureWarning: DataFrame.applymap has been deprecated. Use DataFrame.map instead.\n",
      "  weird = (df_gun_vi[[col]].applymap(type) != df_gun_vi[[col]].iloc[0].apply(type)).any(axis = 1)\n",
      "C:\\Users\\rpa21\\AppData\\Local\\Temp\\ipykernel_14012\\4283232524.py:3: FutureWarning: DataFrame.applymap has been deprecated. Use DataFrame.map instead.\n",
      "  weird = (df_gun_vi[[col]].applymap(type) != df_gun_vi[[col]].iloc[0].apply(type)).any(axis = 1)\n"
     ]
    },
    {
     "name": "stdout",
     "output_type": "stream",
     "text": [
      "participant_type\n",
      "sources\n"
     ]
    },
    {
     "name": "stderr",
     "output_type": "stream",
     "text": [
      "C:\\Users\\rpa21\\AppData\\Local\\Temp\\ipykernel_14012\\4283232524.py:3: FutureWarning: DataFrame.applymap has been deprecated. Use DataFrame.map instead.\n",
      "  weird = (df_gun_vi[[col]].applymap(type) != df_gun_vi[[col]].iloc[0].apply(type)).any(axis = 1)\n",
      "C:\\Users\\rpa21\\AppData\\Local\\Temp\\ipykernel_14012\\4283232524.py:3: FutureWarning: DataFrame.applymap has been deprecated. Use DataFrame.map instead.\n",
      "  weird = (df_gun_vi[[col]].applymap(type) != df_gun_vi[[col]].iloc[0].apply(type)).any(axis = 1)\n",
      "C:\\Users\\rpa21\\AppData\\Local\\Temp\\ipykernel_14012\\4283232524.py:3: FutureWarning: DataFrame.applymap has been deprecated. Use DataFrame.map instead.\n",
      "  weird = (df_gun_vi[[col]].applymap(type) != df_gun_vi[[col]].iloc[0].apply(type)).any(axis = 1)\n"
     ]
    }
   ],
   "source": [
    "# Checking for mixed data types\n",
    "for col in df_gun_vi.columns.tolist():\n",
    "  weird = (df_gun_vi[[col]].applymap(type) != df_gun_vi[[col]].iloc[0].apply(type)).any(axis = 1)\n",
    "  if len (df_gun_vi[weird]) > 0:\n",
    "    print (col)"
   ]
  },
  {
   "cell_type": "code",
   "execution_count": 33,
   "id": "efdf2e6e",
   "metadata": {},
   "outputs": [],
   "source": [
    "# Changing mixed data types to string"
   ]
  },
  {
   "cell_type": "code",
   "execution_count": 21,
   "id": "d1f94a3d",
   "metadata": {},
   "outputs": [],
   "source": [
    "df_gun_vi['incident_characteristics'] = df_gun_vi['incident_characteristics'].astype('str')"
   ]
  },
  {
   "cell_type": "code",
   "execution_count": 22,
   "id": "19891264",
   "metadata": {},
   "outputs": [],
   "source": [
    "df_gun_vi['participant_age_group'] =df_gun_vi ['participant_age_group'].astype('str')"
   ]
  },
  {
   "cell_type": "code",
   "execution_count": 23,
   "id": "502395c5",
   "metadata": {},
   "outputs": [],
   "source": [
    "df_gun_vi['participant_gender'] = df_gun_vi['participant_gender'].astype('str')"
   ]
  },
  {
   "cell_type": "code",
   "execution_count": 24,
   "id": "ff17b451",
   "metadata": {},
   "outputs": [],
   "source": [
    "df_gun_vi['participant_status'] = df_gun_vi['participant_status'].astype('str')"
   ]
  },
  {
   "cell_type": "code",
   "execution_count": 25,
   "id": "d23ed0d8",
   "metadata": {},
   "outputs": [],
   "source": [
    "df_gun_vi['participant_type'] = df_gun_vi['participant_type'].astype('str')"
   ]
  },
  {
   "cell_type": "code",
   "execution_count": 26,
   "id": "45f531d6",
   "metadata": {},
   "outputs": [],
   "source": [
    "df_gun_vi['sources'] = df_gun_vi['sources'].astype('str')"
   ]
  },
  {
   "cell_type": "code",
   "execution_count": 27,
   "id": "d7826eb8",
   "metadata": {},
   "outputs": [],
   "source": [
    "df_gun_vi['participant_relationship'] = df_gun_vi['participant_relationship'].astype('str')"
   ]
  },
  {
   "cell_type": "code",
   "execution_count": 28,
   "id": "6bf6a08e",
   "metadata": {},
   "outputs": [],
   "source": [
    "df_gun_vi['gun_stolen'] = df_gun_vi['gun_stolen'].astype('str')"
   ]
  },
  {
   "cell_type": "code",
   "execution_count": 29,
   "id": "1b8a4437",
   "metadata": {},
   "outputs": [],
   "source": [
    "df_gun_vi['gun_type'] = df_gun_vi['gun_type'].astype('str')"
   ]
  },
  {
   "cell_type": "code",
   "execution_count": 30,
   "id": "3f4a1ed7",
   "metadata": {},
   "outputs": [],
   "source": [
    "df_gun_vi['notes'] = df_gun_vi['notes'].astype('str')"
   ]
  },
  {
   "cell_type": "code",
   "execution_count": 31,
   "id": "c50a8358",
   "metadata": {},
   "outputs": [],
   "source": [
    "df_gun_vi['location_description'] = df_gun_vi['location_description'].astype('str')"
   ]
  },
  {
   "cell_type": "code",
   "execution_count": 42,
   "id": "4bac6533",
   "metadata": {},
   "outputs": [],
   "source": [
    "df_gun_vi['incident_id'] = df_gun_vi['incident_id'].astype('str')"
   ]
  },
  {
   "cell_type": "code",
   "execution_count": 34,
   "id": "5aa7e4de",
   "metadata": {},
   "outputs": [],
   "source": [
    "# Renaming columns\n",
    "df_gun_vi.rename(columns = {'n_killed' : 'number_killed'}, inplace = True)"
   ]
  },
  {
   "cell_type": "code",
   "execution_count": 35,
   "id": "3409519d",
   "metadata": {},
   "outputs": [],
   "source": [
    "df_gun_vi.rename(columns = {'n_injured' : 'number_injured'}, inplace = True)"
   ]
  },
  {
   "cell_type": "code",
   "execution_count": 36,
   "id": "03f6eaa5",
   "metadata": {},
   "outputs": [],
   "source": [
    "df_gun_vi.rename(columns = {'n_guns_involved' : 'number_guns_involved'}, inplace = True)"
   ]
  },
  {
   "cell_type": "code",
   "execution_count": 44,
   "id": "a88a0553",
   "metadata": {},
   "outputs": [],
   "source": [
    "#dropping unnecessary columns\n",
    "df_guns = df_gun_vi.drop(columns = ['address', 'participant_name','incident_url', 'source_url','state_house_district','state_senate_district', 'incident_url_fields_missing'])"
   ]
  },
  {
   "cell_type": "code",
   "execution_count": 45,
   "id": "6ac5b552",
   "metadata": {},
   "outputs": [
    {
     "data": {
      "text/html": [
       "<div>\n",
       "<style scoped>\n",
       "    .dataframe tbody tr th:only-of-type {\n",
       "        vertical-align: middle;\n",
       "    }\n",
       "\n",
       "    .dataframe tbody tr th {\n",
       "        vertical-align: top;\n",
       "    }\n",
       "\n",
       "    .dataframe thead th {\n",
       "        text-align: right;\n",
       "    }\n",
       "</style>\n",
       "<table border=\"1\" class=\"dataframe\">\n",
       "  <thead>\n",
       "    <tr style=\"text-align: right;\">\n",
       "      <th></th>\n",
       "      <th>number_killed</th>\n",
       "      <th>number_injured</th>\n",
       "      <th>congressional_district</th>\n",
       "      <th>latitude</th>\n",
       "      <th>longitude</th>\n",
       "      <th>number_guns_involved</th>\n",
       "    </tr>\n",
       "  </thead>\n",
       "  <tbody>\n",
       "    <tr>\n",
       "      <th>count</th>\n",
       "      <td>239677.000000</td>\n",
       "      <td>239677.000000</td>\n",
       "      <td>227733.000000</td>\n",
       "      <td>231754.000000</td>\n",
       "      <td>231754.000000</td>\n",
       "      <td>140226.000000</td>\n",
       "    </tr>\n",
       "    <tr>\n",
       "      <th>mean</th>\n",
       "      <td>0.252290</td>\n",
       "      <td>0.494007</td>\n",
       "      <td>8.001265</td>\n",
       "      <td>37.546598</td>\n",
       "      <td>-89.338348</td>\n",
       "      <td>1.372442</td>\n",
       "    </tr>\n",
       "    <tr>\n",
       "      <th>std</th>\n",
       "      <td>0.521779</td>\n",
       "      <td>0.729952</td>\n",
       "      <td>8.480835</td>\n",
       "      <td>5.130763</td>\n",
       "      <td>14.359546</td>\n",
       "      <td>4.678202</td>\n",
       "    </tr>\n",
       "    <tr>\n",
       "      <th>min</th>\n",
       "      <td>0.000000</td>\n",
       "      <td>0.000000</td>\n",
       "      <td>0.000000</td>\n",
       "      <td>19.111400</td>\n",
       "      <td>-171.429000</td>\n",
       "      <td>1.000000</td>\n",
       "    </tr>\n",
       "    <tr>\n",
       "      <th>25%</th>\n",
       "      <td>0.000000</td>\n",
       "      <td>0.000000</td>\n",
       "      <td>2.000000</td>\n",
       "      <td>33.903400</td>\n",
       "      <td>-94.158725</td>\n",
       "      <td>1.000000</td>\n",
       "    </tr>\n",
       "    <tr>\n",
       "      <th>50%</th>\n",
       "      <td>0.000000</td>\n",
       "      <td>0.000000</td>\n",
       "      <td>5.000000</td>\n",
       "      <td>38.570600</td>\n",
       "      <td>-86.249600</td>\n",
       "      <td>1.000000</td>\n",
       "    </tr>\n",
       "    <tr>\n",
       "      <th>75%</th>\n",
       "      <td>0.000000</td>\n",
       "      <td>1.000000</td>\n",
       "      <td>10.000000</td>\n",
       "      <td>41.437375</td>\n",
       "      <td>-80.048625</td>\n",
       "      <td>1.000000</td>\n",
       "    </tr>\n",
       "    <tr>\n",
       "      <th>max</th>\n",
       "      <td>50.000000</td>\n",
       "      <td>53.000000</td>\n",
       "      <td>53.000000</td>\n",
       "      <td>71.336800</td>\n",
       "      <td>97.433100</td>\n",
       "      <td>400.000000</td>\n",
       "    </tr>\n",
       "  </tbody>\n",
       "</table>\n",
       "</div>"
      ],
      "text/plain": [
       "       number_killed  number_injured  congressional_district       latitude  \\\n",
       "count  239677.000000   239677.000000           227733.000000  231754.000000   \n",
       "mean        0.252290        0.494007                8.001265      37.546598   \n",
       "std         0.521779        0.729952                8.480835       5.130763   \n",
       "min         0.000000        0.000000                0.000000      19.111400   \n",
       "25%         0.000000        0.000000                2.000000      33.903400   \n",
       "50%         0.000000        0.000000                5.000000      38.570600   \n",
       "75%         0.000000        1.000000               10.000000      41.437375   \n",
       "max        50.000000       53.000000               53.000000      71.336800   \n",
       "\n",
       "           longitude  number_guns_involved  \n",
       "count  231754.000000         140226.000000  \n",
       "mean      -89.338348              1.372442  \n",
       "std        14.359546              4.678202  \n",
       "min      -171.429000              1.000000  \n",
       "25%       -94.158725              1.000000  \n",
       "50%       -86.249600              1.000000  \n",
       "75%       -80.048625              1.000000  \n",
       "max        97.433100            400.000000  "
      ]
     },
     "execution_count": 45,
     "metadata": {},
     "output_type": "execute_result"
    }
   ],
   "source": [
    "df_guns.describe()"
   ]
  },
  {
   "cell_type": "code",
   "execution_count": 46,
   "id": "ede5ded0",
   "metadata": {},
   "outputs": [
    {
     "data": {
      "text/plain": [
       "(239677, 22)"
      ]
     },
     "execution_count": 46,
     "metadata": {},
     "output_type": "execute_result"
    }
   ],
   "source": [
    "df_guns.shape"
   ]
  },
  {
   "cell_type": "markdown",
   "id": "56a590ec",
   "metadata": {},
   "source": [
    "Exporting and Saving Dataframe"
   ]
  },
  {
   "cell_type": "markdown",
   "id": "9c1898e9",
   "metadata": {},
   "source": [
    "<div id = \"save\"></div>"
   ]
  },
  {
   "cell_type": "code",
   "execution_count": 47,
   "id": "f2dd7529",
   "metadata": {},
   "outputs": [],
   "source": [
    "df_guns.to_csv(os.path.join(path, '02 Data','Prepared Data', 'guns_cleaned.csv'))"
   ]
  }
 ],
 "metadata": {
  "kernelspec": {
   "display_name": "Python 3 (ipykernel)",
   "language": "python",
   "name": "python3"
  },
  "language_info": {
   "codemirror_mode": {
    "name": "ipython",
    "version": 3
   },
   "file_extension": ".py",
   "mimetype": "text/x-python",
   "name": "python",
   "nbconvert_exporter": "python",
   "pygments_lexer": "ipython3",
   "version": "3.11.5"
  }
 },
 "nbformat": 4,
 "nbformat_minor": 5
}
